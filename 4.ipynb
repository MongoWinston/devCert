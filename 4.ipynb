{
 "cells": [
  {
   "cell_type": "markdown",
   "metadata": {},
   "source": [
    "<If there are any questions, reach out via winston.vargo@mongodb.com>\n",
    "\n",
    "[Find Me on LinkedIn!](https://www.linkedin.com/in/winston-vargo/)\n",
    "\n",
    "# Welcome to Session 4: Driver Considerations and Data Modelling\n",
    "As the title says, welcome to session 4. This session will be slightly different from the previous 3 sessions.\n",
    "The first session was a conceptual overview of MongoDB and \"getting started\"\n",
    "Sessions 2 and 3 were content heavy and introduced many of specifics of working with MongoDB as a developer.\n",
    "This session is intended on taking sessions 1-3 and applying the concepts as it relates to actually _developing applications against MongoDB_ \n",
    "\n",
    "More concretely, we will be taking many of the concepts from (2) and (3) which were primarily in the mongo shell, and showing those concepts using a MongoDB driver.\n",
    "\n",
    "**THIS SESSION USES THE PYMONGO DRIVER WHICH IS THE OFFICIAL MONGODB PYTHON DRIVER. DRIVERS DIFFER IN THEIR IMPLEMENTATION FROM LANGAGUE TO LANGUAGE.**\n",
    "\n",
    "## Drivers\n",
    "A _driver_ is a program (or SDK) that implements a protocol for a database connection. More practically what that means is, its the functiona that allows a developer to connect to a database, read and write data, etc... USE THE DATABASE!\n",
    "\n",
    "MongoDB maintains and supports drivers in many different languages. However the certification is only offered in Python, NodeJS, Java, and C#.\n",
    "\n",
    "Let's look at some basic python use of the MongoDB driver:"
   ]
  },
  {
   "cell_type": "code",
   "execution_count": 12,
   "metadata": {},
   "outputs": [
    {
     "name": "stdout",
     "output_type": "stream",
     "text": [
      "Python 2.7.18\r\n"
     ]
    }
   ],
   "source": [
    "!python --version"
   ]
  },
  {
   "cell_type": "code",
   "execution_count": 3,
   "metadata": {},
   "outputs": [
    {
     "name": "stdout",
     "output_type": "stream",
     "text": [
      "\u001b[33mDEPRECATION: Python 2.7 reached the end of its life on January 1st, 2020. Please upgrade your Python as Python 2.7 is no longer maintained. pip 21.0 will drop support for Python 2.7 in January 2021. More details about Python 2 support in pip can be found at https://pip.pypa.io/en/latest/development/release-process/#python-2-support pip 21.0 will remove support for this functionality.\u001b[0m\n",
      "Requirement already up-to-date: pip in /Library/Frameworks/Python.framework/Versions/2.7/lib/python2.7/site-packages (20.3.4)\n",
      "\u001b[33mDEPRECATION: Python 2.7 reached the end of its life on January 1st, 2020. Please upgrade your Python as Python 2.7 is no longer maintained. pip 21.0 will drop support for Python 2.7 in January 2021. More details about Python 2 support in pip can be found at https://pip.pypa.io/en/latest/development/release-process/#python-2-support pip 21.0 will remove support for this functionality.\u001b[0m\n",
      "Requirement already up-to-date: pymongo[srv] in /Library/Frameworks/Python.framework/Versions/2.7/lib/python2.7/site-packages (3.13.0)\n",
      "Requirement already satisfied, skipping upgrade: dnspython<1.17.0,>=1.16.0; extra == \"srv\" in /Library/Frameworks/Python.framework/Versions/2.7/lib/python2.7/site-packages (from pymongo[srv]) (1.16.0)\n"
     ]
    }
   ],
   "source": [
    "#driver import\n",
    "import sys\n",
    "!{sys.executable} -m pip install --upgrade pip\n",
    "!{sys.executable} -m pip install --upgrade \"pymongo[srv]\"\n",
    "import pymongo"
   ]
  },
  {
   "cell_type": "code",
   "execution_count": 1,
   "metadata": {},
   "outputs": [
    {
     "name": "stdout",
     "output_type": "stream",
     "text": [
      "mongodb+srv://:&tlsAllowInvalidCertificates=true\n"
     ]
    }
   ],
   "source": [
    "#Variables for Python use:\n",
    "mongodb_connection_string = \"\"\n",
    "mongodb_username = \"\"\n",
    "mongodb_password = \"\"\n",
    "\n",
    "MDB_AUTH_URI = \"mongodb+srv://\" + mongodb_username + \":\" + mongodb_password + mongodb_connection_string.replace(\"mongodb+srv://<username>:<password>\", \"\") + \"&tlsAllowInvalidCertificates=true\"\n",
    "\n",
    "print(MDB_AUTH_URI)"
   ]
  },
  {
   "cell_type": "markdown",
   "metadata": {},
   "source": [
    "## Driver Connection String\n",
    "We need _some_ way to tell the driver (or shell, or... whatever) _where_ the MongoDB database is hosted. For that, we have the **connection string**, a URI to describe where the mongo database is hosted and how to authenticate against it.\n",
    "\n",
    "Regardless of the language used, the format of the connection string will be similar. An example is above ^\n",
    "\n",
    "It has the following components:\n",
    "- `mongodb+srv` implies that the protocol for communication between the app and the database is the mongodb+srv protocol. That uses DNS lookups to route to the proper MongoDB node.\n",
    "- `<username>:<password>@` is used for auth\n",
    "- `devcert.6ngvd.mongodb.net` is the resource identifier for the hosts\n",
    "- `?retryWrites=true&w=majority` are options for the connection. in this case, retryable writes are turned on and write concern is majority.\n",
    "- `&tlsAllowInvalidCertificates=true` is another option that **was only added becuase these Jupyter Notebooks are pinned to Python2.8.19 which does not have a valid certificate to authenticate against MongoDB. Don't do it in real life**\n",
    "\n",
    "the `mongodb+srv` protocol is relatively new and becoming more common, but for educational purposes, let's look at a \"traditional\" connection string\n",
    "\n",
    "`mongodb://<username>:<password>@devcert-shard-00-00.6ngvd.mongodb.net:27017,devcert-shard-00-01.6ngvd.mongodb.net:27017,devcert-shard-00-02.6ngvd.mongodb.net:27017/?ssl=true&replicaSet=atlas-vnu7kz-shard-0&authSource=admin&retryWrites=true&w=majority`\n",
    "\n",
    "Things to note:\n",
    "- each host and port are exposed when not using the +srv protocol\n",
    "- more options are required, notably `ssl=true` and `replicaSet=atlas-vnu7kz-shard-0` Both of these options are hidden behind the `+srv` connection string\n",
    "\n",
    "## Driver Behavior in Contrast to the Shell\n",
    "Using the shell, a single user expects an interactive experience\n",
    "An application that uses MongoDB via the driver has much different access patterns:\n",
    "- oftentimes there are more than 1 user trying to use the application\n",
    "- interactions with the database are ephemeral\n",
    "\n",
    "So, the way that drivers are used differ slightly from the shell\n",
    "\n",
    "Let's take a look at an example of pymongo use to demonstrate this:"
   ]
  },
  {
   "cell_type": "code",
   "execution_count": 7,
   "metadata": {
    "scrolled": false
   },
   "outputs": [
    {
     "name": "stdout",
     "output_type": "stream",
     "text": [
      "{u'plot': u'A group of bandits stage a brazen train hold-up, only to find a determined posse hot on their heels.', u'genres': [u'Short', u'Western'], u'runtime': 11, u'title': u'The Great Train Robbery', u'num_mflix_comments': 0, u'poster': u'https://m.media-amazon.com/images/M/MV5BMTU3NjE5NzYtYTYyNS00MDVmLWIwYjgtMmYwYWIxZDYyNzU2XkEyXkFqcGdeQXVyNzQzNzQxNzI@._V1_SY1000_SX677_AL_.jpg', u'countries': [u'USA'], u'fullplot': u\"Among the earliest existing films in American cinema - notable as the first film that presented a narrative story to tell - it depicts a group of cowboy outlaws who hold up a train and rob the passengers. They are then pursued by a Sheriff's posse. Several scenes have color included - all hand tinted.\", u'languages': [u'English'], u'cast': [u'A.C. Abadie', u\"Gilbert M. 'Broncho Billy' Anderson\", u'George Barnes', u'Justus D. Barnes'], u'directors': [u'Edwin S. Porter'], u'rated': u'TV-G', u'awards': {u'wins': 1, u'nominations': 0, u'text': u'1 win.'}, u'lastupdated': u'2015-08-13 00:27:59.177000000', u'year': 1903, u'imdb': {u'rating': 7.4, u'votes': 9847, u'id': 439}, u'tomatoes': {u'viewer': {u'rating': 3.7, u'numReviews': 2559, u'meter': 75}, u'fresh': 6, u'critic': {u'rating': 7.6, u'numReviews': 6, u'meter': 100}, u'rotten': 0, u'lastUpdated': datetime.datetime(2015, 8, 8, 19, 16, 10)}, u'_id': ObjectId('573a1390f29313caabcd42e8'), u'type': u'movie', u'released': datetime.datetime(1903, 12, 1, 0, 0)}\n"
     ]
    }
   ],
   "source": [
    "client = pymongo.MongoClient(MDB_AUTH_URI)\n",
    "\n",
    "#the try block\n",
    "try:\n",
    "    \n",
    "    \n",
    "    db = client['sample_mflix']\n",
    "    collection = db['movies']\n",
    "    print(collection.find_one())\n",
    "    \n",
    "    \n",
    "except pymongo.errors.ConnectionFailure as e:\n",
    "    print(\"Could not connect to MongoDB:\" + str(e))\n",
    "except Exception as e:\n",
    "    print(\"An error occurred:\"+ str(e))\n",
    "finally:\n",
    "    client.close()\n"
   ]
  },
  {
   "cell_type": "markdown",
   "metadata": {},
   "source": [
    "In the above code snippet, we use the imported pymongo utility to create a connection to the database that is assigned to the variable `client` by typing `client = pymongo.MongoClient(MDB_AUTH_URI)`\n",
    "\n",
    "This is an instance of a `MongoClient`, knowing some basic `MongoClient` methods may show up on the certification test.\n",
    "\n",
    "Then, in the try block, 3 lines are used to make a call against a collection:\n",
    "1. `db = client['sample_mflix']` <-- this creates a variable `db` that references the \"sample_mflix\" database\n",
    "2. `collection = db['movies']` <-- this creates a reference to the collection \"movies\"\n",
    "3. `print(collection.find_one())` <-- this is the pymongo implementation of findOne() in the shell which returns a document, not a cursor.\n",
    "\n",
    "Note that returned object that was printed is not a python string, it is a MongoDB document.\n",
    "\n",
    "## Drivers & Connection Parameters:\n",
    "Take a look at this:"
   ]
  },
  {
   "cell_type": "code",
   "execution_count": 22,
   "metadata": {},
   "outputs": [
    {
     "name": "stdout",
     "output_type": "stream",
     "text": [
      "{u'plot': u'A group of bandits stage a brazen train hold-up, only to find a determined posse hot on their heels.', u'genres': [u'Short', u'Western'], u'runtime': 11, u'title': u'The Great Train Robbery', u'num_mflix_comments': 0, u'poster': u'https://m.media-amazon.com/images/M/MV5BMTU3NjE5NzYtYTYyNS00MDVmLWIwYjgtMmYwYWIxZDYyNzU2XkEyXkFqcGdeQXVyNzQzNzQxNzI@._V1_SY1000_SX677_AL_.jpg', u'countries': [u'USA'], u'fullplot': u\"Among the earliest existing films in American cinema - notable as the first film that presented a narrative story to tell - it depicts a group of cowboy outlaws who hold up a train and rob the passengers. They are then pursued by a Sheriff's posse. Several scenes have color included - all hand tinted.\", u'languages': [u'English'], u'cast': [u'A.C. Abadie', u\"Gilbert M. 'Broncho Billy' Anderson\", u'George Barnes', u'Justus D. Barnes'], u'directors': [u'Edwin S. Porter'], u'rated': u'TV-G', u'awards': {u'wins': 1, u'nominations': 0, u'text': u'1 win.'}, u'lastupdated': u'2015-08-13 00:27:59.177000000', u'year': 1903, u'imdb': {u'rating': 7.4, u'votes': 9847, u'id': 439}, u'tomatoes': {u'viewer': {u'rating': 3.7, u'numReviews': 2559, u'meter': 75}, u'fresh': 6, u'critic': {u'rating': 7.6, u'numReviews': 6, u'meter': 100}, u'rotten': 0, u'lastUpdated': datetime.datetime(2015, 8, 8, 19, 16, 10)}, u'_id': ObjectId('573a1390f29313caabcd42e8'), u'type': u'movie', u'released': datetime.datetime(1903, 12, 1, 0, 0)}\n"
     ]
    }
   ],
   "source": [
    "client = pymongo.MongoClient(\n",
    "    host=MDB_AUTH_URI,\n",
    "    w=1,\n",
    "    maxPoolSize=50\n",
    ")\n",
    "\n",
    "#the try block\n",
    "try:\n",
    "    \n",
    "    \n",
    "    db = client['sample_mflix']\n",
    "    collection = db['movies']\n",
    "    print(collection.find_one())\n",
    "    \n",
    "    \n",
    "except pymongo.errors.ConnectionFailure as e:\n",
    "    print(\"Could not connect to MongoDB:\" + str(e))\n",
    "except Exception as e:\n",
    "    print(\"An error occurred:\"+ str(e))\n",
    "finally:\n",
    "    client.close()"
   ]
  },
  {
   "cell_type": "markdown",
   "metadata": {},
   "source": [
    "The only difference between this example and the previous one is the use of `pymongo.MongoClient`.\n",
    "\n",
    "Note how the `w` and `maxPoolSize` options were set. `w` actually refers to write concern. Wait a sec... My connection string has a write concern configured and the implementation of pymongo has a different write concern!! What gives? Well the connection write concern overrides the connection string write concern. That's the behavior for every parameter.\n",
    "\n",
    "Generally, it is safe to assume most paramaters can be configured at the connection string level, the connection level, and even the query level.\n",
    "\n",
    "What about `maxPoolSize`? Well that takes us to...\n",
    "\n",
    "## Connection Pools\n",
    "\n",
    "We talked briefly earlier about the difference in behavior between shell and driver. One is around \"connections.\" When a user or an app is connecting to MongoDB, they need to create a _connection_ which is essentially 1 TCP connection to the port that MongoDB is listening on.\n",
    "\n",
    "There is a lot of functionality hidden behind in the first line, `client = pymongo.MongoClient(MDB_AUTH_URI)`. This actually creating something called a **Connection Pool** which is actually a pool of cached connections _on the driver_ that are used when handling many concurrent requests to the database. This can be configured in the options (at the connection or connection string level).\n",
    "\n",
    "In our example we were setting the max connections to `50`. The default is `100`\n",
    "\n",
    "**Testing Tip**\n",
    "- knowing all of the options is less important for the developer exam than knowing how to _use_ them, ie recognizing valid configurations of connection strings, connections, and queries\n",
    "\n",
    "## Drivers and CRUD\n",
    "\n",
    "The final aspect of applying our MongoDB knowledge to drivers is translating our previous conversations about MQL and aggregation framework to the specific driver\n",
    "\n",
    "**Again, this demonstration is in Python but EACH language will have its own version of this**\n",
    "\n",
    "We've already talked about sessions and connections. We also have to consider:\n",
    "- driver specific syntax (findOne v find_one, capitalization, quotes, etc)\n",
    "- data types and typing\n",
    "- iterating over a cursor\n",
    "- async versus sync operations\n",
    "\n",
    "Let's look at an example:"
   ]
  },
  {
   "cell_type": "code",
   "execution_count": 50,
   "metadata": {},
   "outputs": [
    {
     "name": "stdout",
     "output_type": "stream",
     "text": [
      "INSERTED ID IS 64ff99d277444e6fd4b71e6f\n",
      "first update updated 0 documents\n",
      "second update updated 1 documents\n",
      "{u'a': 1, u'updated': datetime.datetime(2023, 9, 11, 18, 50, 58, 513000), u'_id': ObjectId('64ff99d277444e6fd4b71e6f'), u'example': True}\n",
      "1\n"
     ]
    }
   ],
   "source": [
    "### ~~~~~~~~~~~ COMMENT 1 ~~~~~~~~~~~~ ###\n",
    "from datetime import datetime\n",
    "from bson import ObjectId\n",
    "client = pymongo.MongoClient(MDB_AUTH_URI)\n",
    "\n",
    "### ~~~~~~~~~~~ COMMENT 2 ~~~~~~~~~~~~ ###\n",
    "doc_to_insert = {\n",
    "    \"a\":1,\n",
    "    \"example\":True\n",
    "}\n",
    "\n",
    "\n",
    "try:\n",
    "\n",
    "    db = client['testDb']\n",
    "    collection = db['python']\n",
    "    \n",
    "    \n",
    "### ~~~~~~~~~~~ COMMENT 3 ~~~~~~~~~~~~ ###\n",
    "    collection.delete_many({},{})\n",
    "    \n",
    "### ~~~~~~~~~~~ COMMENT 4 ~~~~~~~~~~~~ ###\n",
    "    insertResult = collection.insert_one(doc_to_insert)\n",
    "    print(\"INSERTED ID IS \"+str(insertResult.inserted_id))\n",
    "    \n",
    "### ~~~~~~~~~~~ COMMENT 5 ~~~~~~~~~~~~ ###\n",
    "    updateResult1 = collection.update_many({\"_id\":str(insertResult.inserted_id)},{\"$set\":{\"updated\": datetime.now()}})\n",
    "    updateResult2 = collection.update_many({\"_id\":ObjectId(str(insertResult.inserted_id))},{\"$set\":{\"updated\": datetime.now()}})\n",
    "    \n",
    "    print(\"first update updated \" + str(updateResult1.modified_count) + \" documents\")\n",
    "    print(\"second update updated \" + str(updateResult2.modified_count) + \" documents\")\n",
    "    \n",
    "### ~~~~~~~~~~~ COMMENT 6 ~~~~~~~~~~~~ ###\n",
    "    findResults1 = collection.find({})\n",
    "    for document in findResults1:\n",
    "        print(document)\n",
    "        \n",
    "    findResults2 = list(collection.find({}))\n",
    "    print(str(len(findResults2)))\n",
    "    \n",
    "    \n",
    "except pymongo.errors.ConnectionFailure as e:\n",
    "    print(\"Could not connect to MongoDB:\" + str(e))\n",
    "except Exception as e:\n",
    "    print(\"An error occurred:\"+ str(e))\n",
    "finally:\n",
    "    client.close()\n"
   ]
  },
  {
   "cell_type": "markdown",
   "metadata": {},
   "source": [
    "## Notes and Reflections from the Above Example\n",
    "\n",
    "**Comment 1:** This shows how Python deals with data typing in MongoDB.\n",
    "- `datetime` is a standard Python module, and the Pymongo driver uses Python datetimes that cast to ISODates on the database (remember BSON types from session 1?)\n",
    "- `bson` is a package that is installed when installing the Pymongo driver. In this case, I use it later to query a document based on an `ObjectId` property.\n",
    "\n",
    "**Comment 2:** This block shows how a _document_ is created in Python. Note that a python dictionary is essentially saved as a document. Generally, for all languages, the standard \"object\" is what is stored to MongoDB. Javascript objects, POJOs, Python dicts, Go structs, etc are examples of \"objects\" that are stored to the server. **This is a core feature of the database** Also notice that `True` has a captital T. In javascript, it is `true`. These are the language specific changes that might come up. Another Python / Javascript difference is that the developer has to encase the key with quotations, where in JS that is not required.\n",
    "\n",
    "**Comment 3:** This is a standard `delete_many` with no filter to reset the demo. Note that python is `based_on_underscores` not `camelCase` like the shell and Javascript.\n",
    "\n",
    "**Comment 4:** A few things to note here. First of all, this is a fairly typical pattern that we see for inserts. The pattern I am describing is declaring a variable as the output of a insert/update/delete. This has the side effect of performing that action against the database, and the variable becomes a `result object` that represents metadata about the write operation (if it is successful, Ids of documents inserted, etc). Also I want to comment on timing. Python is a synchronous language, which means the assignment of the variable `insertResult` _waits_ for the call to the database to be complete. **Javascript is asynchronous. So if we ran a similar function in JS, the variable `insertResult` would be a Javascript `promise`. The developer needs to use callbacks, async/await, etc to deal with this.**\n",
    "\n",
    "**Comment 5:** Basically the point here is that a string doesn't match an ObjectID. The first update doesn't actually match on anything due to that point. So I use the `bson` library implementation of the `ObjectId` to filter on ObjectId. Then there is an update statement which is essentially the same as any update statement in the shell.\n",
    "\n",
    "**Comment 6:** Is all about _cursor iteration_. This shows 2 ways that python can access documents from a cursor (remember `find()` returns a `cursor`, not documents). \n",
    "1. `for <document> in <cursor>` allows the application to iterate through a cursor, performing actions on each document returned\n",
    "2. `list(<cursor>)` in another (less common) way to exhaust a cursor. It tells the application to take the result set and create a list (array) out of that result set. **This can be a heavy operation to the app for a large read**\n",
    "\n",
    "The point is, each language has its own ways for iterating over a cursor. Knowing them is important for the test.\n",
    "\n",
    "## Drivers and Aggregations\n",
    "\n",
    "You can also perform aggregations via the driver. The syntax should be fairly familiar:"
   ]
  },
  {
   "cell_type": "code",
   "execution_count": 8,
   "metadata": {},
   "outputs": [
    {
     "name": "stdout",
     "output_type": "stream",
     "text": [
      "{u'average_runtime': 98.0, u'_id': u'Mexico'}\n",
      "{u'average_runtime': 96.33333333333333, u'_id': u'Denmark'}\n",
      "{u'average_runtime': 87.0, u'_id': u'Sweden'}\n"
     ]
    }
   ],
   "source": [
    "client = pymongo.MongoClient(MDB_AUTH_URI)\n",
    "try:\n",
    "    \n",
    "    pipeline = [\n",
    "        {\n",
    "            \"$match\": {\n",
    "                \"year\": 1991\n",
    "            }\n",
    "        },\n",
    "        {\n",
    "            \"$unwind\": \"$countries\"\n",
    "        },\n",
    "        {\n",
    "            \"$group\": {\n",
    "                \"_id\": \"$countries\",\n",
    "                \"average_runtime\": {\n",
    "                    \"$avg\": \"$runtime\"\n",
    "                }\n",
    "            }\n",
    "        },\n",
    "        {\"$limit\":3}\n",
    "    ]\n",
    "    \n",
    "    db = client['sample_mflix']\n",
    "    collection = db['movies']\n",
    "    aggResult = list(collection.aggregate(pipeline))\n",
    "    \n",
    "    for document in aggResult:\n",
    "        print(document)\n",
    "    \n",
    "except pymongo.errors.ConnectionFailure as e:\n",
    "    print(\"Could not connect to MongoDB:\" + str(e))\n",
    "except Exception as e:\n",
    "    print(\"An error occurred:\"+ str(e))\n",
    "finally:\n",
    "    client.close()\n"
   ]
  },
  {
   "cell_type": "markdown",
   "metadata": {},
   "source": [
    "... So that's pretty much it when it comes to taking the knowledge that we have learned in the past sessions and applying it to drivers.\n",
    "\n",
    "## Data Modelling\n",
    "\n",
    "We now know how to use the MongoDB language, and drivers, etc to perform operations against the database. As a \"real\" developer, this is just the beginning. **The point of learning MongoDB is to use it to create solutions**. To that end, a developer often has to choose how they relate the problem they are trying to solve to a data model.\n",
    "\n",
    "We have learned about how flexible MongoDB is, as it relates to data modelling. In the relational world, the heuristic that developers use is the **3rd normal form**. With MongoDB, there are so many ways to model data and thus there is no \"rule\" like 3rd normalization. Instead, there are guidelines:\n",
    "\n",
    "- Data that is accessed together should be stored together\n",
    "- The \"N\" of 1:N and N:N relations _matters_\n",
    "- Consider the fields that are used to filter and fields that are often modified\n",
    "\n",
    "**Embedding versus Linking**\n",
    "\n",
    "In our previous sessions, we were also exposed to the aggregation framework `$lookup` stage, and many were surprised to find out that MongoDB _does_ have the ability to perform operations like `SQL JOINs`.\n",
    "\n",
    "So a fundamental question when designing a data model is to **embed**:\n",
    "```\n",
    "// people collection\n",
    "{\n",
    "    _id:1,\n",
    "    name:\"Winston\",\n",
    "    cars:[{year:2023,model:\"Tesla Model Y\"},{year:1963,model:\"Pontiac Firebird\"}]\n",
    "}\n",
    "```\n",
    "\n",
    "or **link**:\n",
    "```\n",
    "// people collection\n",
    "{\n",
    "    _id:1,\n",
    "    name:\"Winston\"\n",
    "}\n",
    "\n",
    "\n",
    "// cars collection\n",
    "{\n",
    "    _id:2,\n",
    "    year:2023,\n",
    "    model:\"Tesla Model Y\",\n",
    "    ownerID:1\n",
    "},\n",
    "{\n",
    "    _id:3,\n",
    "    year:1963,\n",
    "    model:\"Pontiac Firebird\",\n",
    "    ownerID:1\n",
    "}\n",
    "```\n",
    "\n",
    "In the **embedding** paradigm, 1:N relationsihips are modelled via arrays within a document. When **linking**, 1:N relationships are modelled via a foreign key relationship in a seperate collection.\n",
    "\n",
    "_Neither of these paradigms are wrong._ It depends on the nature of the use case:\n",
    "\n",
    "**Embedding** would support highly efficient computing for the following types of use cases:\n",
    "- Using `name` as a filter, and returning the associated `cars`\n",
    "- Situations in which people rarely have a lot of cars (unbounded arrays are bad)\n",
    "- Generally this has high performance reads, potentially at the expense of writes\n",
    "\n",
    "**Linking** would support the following types of use cases:\n",
    "- Frequent updates on `car` data (for instance, if there was a field \"milage\" which is often updated)\n",
    "- Queries based on car parameters in which the owner of the car is the desired output\n",
    "- Generally this has balanced read/write performance.\n",
    "\n",
    "The `sample_mflix` sample dataset has an example of how a developer might reason about embedding versus linking. The `cast` and `genres` fields are embedded inside documents inside the `movies` collection. There is also a seperate collection for `comments`. This makes sense because a movie will rarely have more than 10 actors or associated genres. However, there could be a effectively limitless amount of comments, and these comments might be frequently edited. "
   ]
  },
  {
   "cell_type": "markdown",
   "metadata": {},
   "source": [
    "other things:\n",
    "- shell toArray\n",
    "- getSiblingDb\n",
    "- findAnd_\n",
    "- atlas Data Explorer\n",
    "- search indexes"
   ]
  },
  {
   "cell_type": "code",
   "execution_count": null,
   "metadata": {},
   "outputs": [],
   "source": []
  }
 ],
 "metadata": {
  "kernelspec": {
   "display_name": "Python 2",
   "language": "python",
   "name": "python2"
  },
  "language_info": {
   "codemirror_mode": {
    "name": "ipython",
    "version": 2
   },
   "file_extension": ".py",
   "mimetype": "text/x-python",
   "name": "python",
   "nbconvert_exporter": "python",
   "pygments_lexer": "ipython2",
   "version": "2.7.18"
  }
 },
 "nbformat": 4,
 "nbformat_minor": 2
}
