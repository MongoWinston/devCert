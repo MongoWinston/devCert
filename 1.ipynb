{
 "cells": [
  {
   "cell_type": "markdown",
   "metadata": {},
   "source": [
    "# Welcome To Session 1\n",
    "## Intro\n",
    "\n",
    "<If there are any questions, reach out via winston.vargo@mongodb.com>\n",
    "\n",
    "Jupyter is an interactive \"notebook\" environment where we can combine code, text, pictures, etc.\n",
    "\n",
    "It is based on a modified form of python. In order to give users a \"mongo shell experience,\" at the beginning of every notebook I will ask for you to put your variables in as python variables, and access them using shell scripts using the mongosh command line (which is the official mongo shell).\n",
    "\n",
    "For this first session, don't worry too much about the commands I am passing to the server, we will be focusing on queries soon.\n"
   ]
  },
  {
   "cell_type": "markdown",
   "metadata": {},
   "source": [
    "## MongoDB Architecture & Atlas\n",
    "For the sake of getting MongoDB certified, MongoDB Architecture is not a major focus, but it helps to have a basic understanding. Also, it's hard to develop anything on MongoDB if you don't have a database to use\n",
    "\n",
    "Luckily, there is an easy way to get access to a MongoDB database for free. That is by creating a free tier cluster in our managed service called Atlas. Once a cluster is created, whitelist the source IP address (either this host or your local host), create a database user, and you are ready to use MongoDB.\n",
    "\n",
    "Atlas also has some sample data sets that we will use in these sessions, so please upload that data set. \n",
    "\n",
    "![title](../ubuntu/loadSampleData.png)\n",
    "\n",
    "... OK! \n",
    "\n",
    "So, we have a cluster (in Atlas), a user (with read/write any database priviledges), a password, an IP whitelist, and sample data.\n",
    "\n",
    "Now, lets ensure that you have connectivity to the database by running the mongo shell equivalent of \"Hello World,\" db.hello().\n",
    "\n",
    "In the cell below, enter your username and password that you created to authenticate against the database, and replace the connection string variable with the shell connection string from your Atlas UI. In order to find that connection string, find the cluster in your Atlas project UI, click \"Connect\" on it, choose \"Shell\" as connection method.\n",
    "\n",
    "**If you change these variables, make sure to RUN THE CELL or they won't be reassigned**\n",
    "\n"
   ]
  },
  {
   "cell_type": "code",
   "execution_count": 41,
   "metadata": {},
   "outputs": [],
   "source": [
    "# Variables\n",
    "mongoDB_username = \"\"\n",
    "mongoDB_password = \"\"\n",
    "mongoDB_connection_string = \"\""
   ]
  },
  {
   "cell_type": "code",
   "execution_count": 42,
   "metadata": {
    "scrolled": false
   },
   "outputs": [
    {
     "name": "stdout",
     "output_type": "stream",
     "text": [
      "\u001b]0;mongosh mongodb://127.0.0.1:27017/?directConnection=true&serverSelectionTimeoutMS=2000\u0007MongoNetworkError: connect ECONNREFUSED 127.0.0.1:27017\n"
     ]
    }
   ],
   "source": [
    "!mongosh {mongoDB_connection_string} --quiet  --username {mongoDB_username} -p {mongoDB_password} \\\n",
    "--eval \"db.hello()\" "
   ]
  },
  {
   "cell_type": "markdown",
   "metadata": {},
   "source": [
    "## Mongosh\n",
    "\n",
    "Mongosh is the official mongo shell. Knowing how to install it and the connection flags is not a major focus of the developer certification. However, for a **vast majority** of the questions on the developer exam, the exam will use mongo shell format. So understanding the shell at a high level is crucial for doing well on the certification test. Luckily, the shell is very similar to any langauge specific implementation of MongoDB. My suggestion as you learn is to start in the mongo shell, then learn language specific topics, such as connecting to the database and iterating through a cursor.\n",
    "\n",
    "In the above example, we use the `--eval` flag to pass in a shell command (in this case it was `db.hello()`). The mongo shell is a javascript interpreter, so many shell commands look like javascript. In the shell, the `db` object represents the current database context. Because we didn't specify the database in the connection string, it uses the default, `test`.\n",
    "\n",
    "`db.hello()` returns basic information about the mongoDB cluster. If you are connecting to a replica set, note that there are multiple hosts in the `hosts` array. This shows that MongoDB is replicating your data, but this won't come up on the developer exam"
   ]
  },
  {
   "cell_type": "code",
   "execution_count": null,
   "metadata": {},
   "outputs": [],
   "source": []
  }
 ],
 "metadata": {
  "kernelspec": {
   "display_name": "Python 2",
   "language": "python",
   "name": "python2"
  },
  "language_info": {
   "codemirror_mode": {
    "name": "ipython",
    "version": 2
   },
   "file_extension": ".py",
   "mimetype": "text/x-python",
   "name": "python",
   "nbconvert_exporter": "python",
   "pygments_lexer": "ipython2",
   "version": "2.7.18"
  }
 },
 "nbformat": 4,
 "nbformat_minor": 2
}
