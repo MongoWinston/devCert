{
 "cells": [
  {
   "cell_type": "markdown",
   "metadata": {},
   "source": [
    "# Welcome To Session 1\n",
    "## Intro\n",
    "Jupyter is an interactive \"notebook\" environment where we can combine code, text, pictures, etc.\n",
    "\n",
    "It is based on a modified form of python. In order to give users a \"mongo shell experience,\" at the beginning of every notebook I will ask for you to put your variables in as python variables, and access them using shell scripts using the mongosh command line (which is the official mongo shell).\n",
    "\n",
    "For this first session, don't worry too much about the commands I am passing to the server, we will be focusing on queries soon.\n"
   ]
  },
  {
   "cell_type": "markdown",
   "metadata": {},
   "source": [
    "## MongoDB Architecture & Atlas\n",
    "For the sake of getting MongoDB certified, MongoDB Architecture is not a major focus, but it helps to have a basic understanding. Also, it's hard to develop anything on MongoDB if you don't have a database to use\n",
    "\n",
    "Luckily, there is an easy way to get access to a MongoDB database for free. That is by creating a free tier cluster in our managed service called Atlas. Once a cluster is created, simply whitelist the source IP address (either this host or your local host), create a database user, and you are ready to use MongoDB."
   ]
  },
  {
   "cell_type": "code",
   "execution_count": 21,
   "metadata": {},
   "outputs": [],
   "source": [
    "# Variables\n",
    "mongoDB_username = \"\"\n",
    "mongoDB_password = \"\"\n",
    "mongoDB_connection_string = \"\""
   ]
  },
  {
   "cell_type": "code",
   "execution_count": 20,
   "metadata": {
    "scrolled": false
   },
   "outputs": [
    {
     "name": "stdout",
     "output_type": "stream",
     "text": [
      "\u001b]0;mongosh mongodb+srv://<credentials>@democluster.ngbij.mongodb.net/\u0007\u001b[1G\u001b[0J \u001b[1Gatlas-117t3a-shard-0\n"
     ]
    }
   ],
   "source": [
    "!mongosh {mongoDB_connection_string} --quiet  --username {mongoDB_username} -p {mongoDB_password} \\\n",
    "--eval \"rs.status().set\" "
   ]
  },
  {
   "cell_type": "code",
   "execution_count": null,
   "metadata": {},
   "outputs": [],
   "source": []
  }
 ],
 "metadata": {
  "kernelspec": {
   "display_name": "Python 2",
   "language": "python",
   "name": "python2"
  },
  "language_info": {
   "codemirror_mode": {
    "name": "ipython",
    "version": 2
   },
   "file_extension": ".py",
   "mimetype": "text/x-python",
   "name": "python",
   "nbconvert_exporter": "python",
   "pygments_lexer": "ipython2",
   "version": "2.7.18"
  }
 },
 "nbformat": 4,
 "nbformat_minor": 2
}
