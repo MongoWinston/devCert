{
 "cells": [
  {
   "cell_type": "markdown",
   "metadata": {},
   "source": [
    "<If there are any questions, reach out via winston.vargo@mongodb.com>\n",
    "\n",
    "[Find Me on LinkedIn!](https://www.linkedin.com/in/winston-vargo/)\n",
    "\n",
    "# Welcome to Session 2\n",
    "## MQL\n",
    "\n",
    "We've already met MQL, we just didn't call it by that name. *MQL* is short for \"MongoDB Query Language,\" and is the standard way to interface against the MongoDB database.\n",
    "\n",
    "In a certification test, rarely will the term MQL be used. The questions are usually asked \"What is the proper syntax to query using X field?\" and the options are various types of MQL. The term \"MQL\" is an umbrella term that references a standard query syntax across the mongo shell (mongosh), drivers, the Compass GUI, etc.\n",
    "\n",
    "Last session we finished with using MQL to insert() documents. Now, let's actually read some of the data!\n",
    "\n",
    "## Reads\n",
    "\n",
    "Generally, to perform a read using MQL, the syntax is as follows:\n",
    "\n",
    "`db.findOne({filter},{projection})` <-- this returns a document\n",
    "\n",
    "`db.find({filter},{projection})` <-- this returns multiple documents... or really a *cursor* \n",
    "\n",
    "A cursor is a pointer to the results of a query in memory. The client then iterates through the cursor. Its important to note that the shell automatically iterates through the first 20 documents in a cursor.\n",
    "\n",
    "There is a shell helper function, `.toArray()` which will take the all of documents in the cursor and creat an array out of them.\n",
    "\n",
    "So what is that `{filter}` thing? Well, that's going to take up most of this session. Generally, it is a BSON object that represents the inputs to your query. By default, the MongoDB Server returns all fields of a document. For the RDBMS people out there, it is like doing a SQL `SELECT *`. The `{projection}` object is a way to determine which fields are returned by a query. Let's take a look at some examples:"
   ]
  },
  {
   "cell_type": "code",
   "execution_count": 3,
   "metadata": {},
   "outputs": [],
   "source": [
    "# First Let's connect to the DB\n",
    "# Variables\n",
    "mongoDB_username = \"\"\n",
    "mongoDB_password = \"\"\n",
    "mongoDB_connection_string = \"\""
   ]
  },
  {
   "cell_type": "code",
   "execution_count": 1,
   "metadata": {},
   "outputs": [
    {
     "name": "stdout",
     "output_type": "stream",
     "text": [
      "\u001b]0;mongosh mongodb://<credentials>@127.0.0.1:27017/%7BmongoDB_connection_string%7D?directConnection=true&serverSelectionTimeoutMS=2000\u0007MongoNetworkError: connect ECONNREFUSED 127.0.0.1:27017\n"
     ]
    }
   ],
   "source": [
    "readString = \"db.movies.find({year:1991})\"\n",
    "\n",
    "!mongosh {mongoDB_connection_string} --quiet  --username {mongoDB_username} -p {mongoDB_password} \\\n",
    "--eval \"use sample_mflix\" \\\n",
    "--eval \"{readString}\""
   ]
  },
  {
   "cell_type": "markdown",
   "metadata": {},
   "source": [
    "#### Some Comments on the Above Query\n",
    "- the filter object is `{year:1991}`. This is an example of the most basic query. It is a single field (`year`) equality match (1991)\n",
    "- If you scroll down to the bottom of the output, note how it says \"Type \"it\" for more.\" This is due to the fact that `find()` returns a *cursor*"
   ]
  },
  {
   "cell_type": "code",
   "execution_count": 5,
   "metadata": {},
   "outputs": [
    {
     "name": "stdout",
     "output_type": "stream",
     "text": [
      "\u001b]0;mongosh mongodb+srv://<credentials>@devcert.6ngvd.mongodb.net/\u0007\u001b[1G\u001b[0J \u001b[1G[\n",
      "  {\n",
      "    _id: ObjectId(\"573a1398f29313caabcead6a\"),\n",
      "    title: \u001b[32m'The House of Smiles'\u001b[39m,\n",
      "    year: \u001b[33m1991\u001b[39m\n",
      "  },\n",
      "  {\n",
      "    _id: ObjectId(\"573a1398f29313caabcebadc\"),\n",
      "    title: \u001b[32m'They Call Me Macho Woman!'\u001b[39m,\n",
      "    year: \u001b[33m1991\u001b[39m\n",
      "  },\n",
      "  {\n",
      "    _id: ObjectId(\"573a1398f29313caabcebc97\"),\n",
      "    title: \u001b[32m'Prime Suspect'\u001b[39m,\n",
      "    year: \u001b[33m1991\u001b[39m\n",
      "  },\n",
      "  {\n",
      "    _id: ObjectId(\"573a1398f29313caabcebdf2\"),\n",
      "    title: \u001b[32m'City of the Blind'\u001b[39m,\n",
      "    year: \u001b[33m1991\u001b[39m\n",
      "  },\n",
      "  {\n",
      "    _id: ObjectId(\"573a1398f29313caabcebf0b\"),\n",
      "    title: \u001b[32m'Armour of God 2: Operation Condor'\u001b[39m,\n",
      "    year: \u001b[33m1991\u001b[39m\n",
      "  },\n",
      "  {\n",
      "    _id: ObjectId(\"573a1399f29313caabcec20a\"),\n",
      "    title: \u001b[32m'Perfectly Normal'\u001b[39m,\n",
      "    year: \u001b[33m1991\u001b[39m\n",
      "  },\n",
      "  {\n",
      "    _id: ObjectId(\"573a1399f29313caabcec22b\"),\n",
      "    title: \u001b[32m'The Pit and the Pendulum'\u001b[39m,\n",
      "    year: \u001b[33m1991\u001b[39m\n",
      "  },\n",
      "  {\n",
      "    _id: ObjectId(\"573a1399f29313caabcec3a5\"),\n",
      "    title: \u001b[32m'Thousand Pieces of Gold'\u001b[39m,\n",
      "    year: \u001b[33m1991\u001b[39m\n",
      "  },\n",
      "  {\n",
      "    _id: ObjectId(\"573a1399f29313caabcec3d1\"),\n",
      "    title: \u001b[32m'Ultrè'\u001b[39m,\n",
      "    year: \u001b[33m1991\u001b[39m\n",
      "  },\n",
      "  {\n",
      "    _id: ObjectId(\"573a1399f29313caabcec488\"),\n",
      "    title: \u001b[32m'Once a Thief'\u001b[39m,\n",
      "    year: \u001b[33m1991\u001b[39m\n",
      "  },\n",
      "  {\n",
      "    _id: ObjectId(\"573a1399f29313caabcec4ba\"),\n",
      "    title: \u001b[32m'Conspiracy of Silence'\u001b[39m,\n",
      "    year: \u001b[33m1991\u001b[39m\n",
      "  },\n",
      "  {\n",
      "    _id: ObjectId(\"573a1399f29313caabcec4d2\"),\n",
      "    title: \u001b[32m'The Cave of the Golden Rose'\u001b[39m,\n",
      "    year: \u001b[33m1991\u001b[39m\n",
      "  },\n",
      "  {\n",
      "    _id: ObjectId(\"573a1399f29313caabcec570\"),\n",
      "    title: \u001b[32m'35 Up'\u001b[39m,\n",
      "    year: \u001b[33m1991\u001b[39m\n",
      "  },\n",
      "  {\n",
      "    _id: ObjectId(\"573a1399f29313caabcec582\"),\n",
      "    title: \u001b[32m'The Addams Family'\u001b[39m,\n",
      "    year: \u001b[33m1991\u001b[39m\n",
      "  },\n",
      "  {\n",
      "    _id: ObjectId(\"573a1399f29313caabcec58c\"),\n",
      "    title: \u001b[32m'The Adjuster'\u001b[39m,\n",
      "    year: \u001b[33m1991\u001b[39m\n",
      "  },\n",
      "  {\n",
      "    _id: ObjectId(\"573a1399f29313caabcec598\"),\n",
      "    title: \u001b[32m'The Stranger'\u001b[39m,\n",
      "    year: \u001b[33m1991\u001b[39m\n",
      "  },\n",
      "  {\n",
      "    _id: ObjectId(\"573a1399f29313caabcec59c\"),\n",
      "    title: \u001b[32m'All I Want for Christmas'\u001b[39m,\n",
      "    year: \u001b[33m1991\u001b[39m\n",
      "  },\n",
      "  {\n",
      "    _id: ObjectId(\"573a1399f29313caabcec5ac\"),\n",
      "    title: \u001b[32m'The Lovers on the Bridge'\u001b[39m,\n",
      "    year: \u001b[33m1991\u001b[39m\n",
      "  },\n",
      "  {\n",
      "    _id: ObjectId(\"573a1399f29313caabcec5bb\"),\n",
      "    title: \u001b[32m'American Friends'\u001b[39m,\n",
      "    year: \u001b[33m1991\u001b[39m\n",
      "  },\n",
      "  {\n",
      "    _id: ObjectId(\"573a1399f29313caabcec5c4\"),\n",
      "    title: \u001b[32m'And You Thought Your Parents Were Weird'\u001b[39m,\n",
      "    year: \u001b[33m1991\u001b[39m\n",
      "  }\n",
      "]\n",
      "Type \"it\" for more\n"
     ]
    }
   ],
   "source": [
    "readString = \"db.movies.find({year:1991},{title:1,year:1})\"\n",
    "\n",
    "!mongosh {mongoDB_connection_string} --quiet  --username {mongoDB_username} -p {mongoDB_password} \\\n",
    "--eval \"use sample_mflix\" \\\n",
    "--eval \"{readString}\""
   ]
  },
  {
   "cell_type": "markdown",
   "metadata": {},
   "source": [
    "#### Some Comments on the Above Query\n",
    "- we made a `projection` on `{title:1,year:1}` with the same `filter` as the previous example\n",
    "- note that `_id` returns automatically. To disable that, you must explicitly state `{_id:0}` in the projection\n",
    "\n",
    "## More Query Syntax\n",
    "MQL is typically used in the mongo shell (which is a javascript interpreter) or in code... In both cases, it is possible to chain functions to add functionality to the query language:\n",
    "- `.sort({sort})` this adds a sort to the query\n",
    "- `.limit(<int> or -1)` this limits the number of documents results\n",
    "- `.explain()` We will get in to this a little more later, but it returns the *query plan* for a given query\n",
    "\n",
    "`sort` and `limit` are only supported for `find()` operations, not `findOne()`\n",
    "\n",
    "Let's look at a few more examples:"
   ]
  },
  {
   "cell_type": "code",
   "execution_count": 6,
   "metadata": {},
   "outputs": [
    {
     "name": "stdout",
     "output_type": "stream",
     "text": [
      "\u001b]0;mongosh mongodb+srv://<credentials>@devcert.6ngvd.mongodb.net/\u0007\u001b[1G\u001b[0J \u001b[1G[\n",
      "  { title: \u001b[32m'35 Up'\u001b[39m, year: \u001b[33m1991\u001b[39m },\n",
      "  { year: \u001b[33m1991\u001b[39m, title: \u001b[32m'A Brief History of Time'\u001b[39m },\n",
      "  { title: \u001b[32m'A Brighter Summer Day'\u001b[39m, year: \u001b[33m1991\u001b[39m },\n",
      "  { title: \u001b[32m'A Kiss Before Dying'\u001b[39m, year: \u001b[33m1991\u001b[39m },\n",
      "  { title: \u001b[32m'A Little Stiff'\u001b[39m, year: \u001b[33m1991\u001b[39m },\n",
      "  { title: \u001b[32m'A Rage in Harlem'\u001b[39m, year: \u001b[33m1991\u001b[39m },\n",
      "  { title: \u001b[32m'A Scene at the Sea'\u001b[39m, year: \u001b[33m1991\u001b[39m },\n",
      "  { title: \u001b[32m\"A Woman's Tale\"\u001b[39m, year: \u001b[33m1991\u001b[39m },\n",
      "  { title: \u001b[32m'A Year Along the Abandoned Road'\u001b[39m, year: \u001b[33m1991\u001b[39m },\n",
      "  { title: \u001b[32m'All I Want for Christmas'\u001b[39m, year: \u001b[33m1991\u001b[39m },\n",
      "  { title: \u001b[32m'American Friends'\u001b[39m, year: \u001b[33m1991\u001b[39m },\n",
      "  { title: \u001b[32m'And You Thought Your Parents Were Weird'\u001b[39m, year: \u001b[33m1991\u001b[39m },\n",
      "  { title: \u001b[32m'Armour of God 2: Operation Condor'\u001b[39m, year: \u001b[33m1991\u001b[39m },\n",
      "  { title: \u001b[32m'Assassin of the Tsar'\u001b[39m, year: \u001b[33m1991\u001b[39m },\n",
      "  { title: \u001b[32m'At Play in the Fields of the Lord'\u001b[39m, year: \u001b[33m1991\u001b[39m },\n",
      "  { title: \u001b[32m'Backdraft'\u001b[39m, year: \u001b[33m1991\u001b[39m },\n",
      "  { year: \u001b[33m1991\u001b[39m, title: \u001b[32m'Barton Fink'\u001b[39m },\n",
      "  { title: \u001b[32m'Basket Case 3'\u001b[39m, year: \u001b[33m1991\u001b[39m },\n",
      "  { title: \u001b[32m'Beauty and the Beast'\u001b[39m, year: \u001b[33m1991\u001b[39m },\n",
      "  { title: \u001b[32m'Bian zou bian chang'\u001b[39m, year: \u001b[33m1991\u001b[39m }\n",
      "]\n",
      "Type \"it\" for more\n"
     ]
    }
   ],
   "source": [
    "readString = \"db.movies.find({year:1991},{title:1,year:1,_id:0}).sort({title:1})\"\n",
    "\n",
    "!mongosh {mongoDB_connection_string} --quiet  --username {mongoDB_username} -p {mongoDB_password} \\\n",
    "--eval \"use sample_mflix\" \\\n",
    "--eval \"{readString}\""
   ]
  },
  {
   "cell_type": "code",
   "execution_count": 9,
   "metadata": {},
   "outputs": [
    {
     "name": "stdout",
     "output_type": "stream",
     "text": [
      "\u001b]0;mongosh mongodb+srv://<credentials>@devcert.6ngvd.mongodb.net/\u0007\u001b[1G\u001b[0J \u001b[1G[\n",
      "  { title: \u001b[32m'The House of Smiles'\u001b[39m, year: \u001b[33m1991\u001b[39m },\n",
      "  { title: \u001b[32m'They Call Me Macho Woman!'\u001b[39m, year: \u001b[33m1991\u001b[39m },\n",
      "  { title: \u001b[32m'Prime Suspect'\u001b[39m, year: \u001b[33m1991\u001b[39m }\n",
      "]\n"
     ]
    }
   ],
   "source": [
    "readString = \"db.movies.find({year:1991},{title:1,year:1,_id:0}).limit(3)\"\n",
    "\n",
    "!mongosh {mongoDB_connection_string} --quiet  --username {mongoDB_username} -p {mongoDB_password} \\\n",
    "--eval \"use sample_mflix\" \\\n",
    "--eval \"{readString}\""
   ]
  },
  {
   "cell_type": "code",
   "execution_count": 7,
   "metadata": {},
   "outputs": [
    {
     "name": "stdout",
     "output_type": "stream",
     "text": [
      "\u001b]0;mongosh mongodb+srv://<credentials>@devcert.6ngvd.mongodb.net/\u0007\u001b[1G\u001b[0J \u001b[1G[\n",
      "  { title: \u001b[32m'35 Up'\u001b[39m, year: \u001b[33m1991\u001b[39m },\n",
      "  { year: \u001b[33m1991\u001b[39m, title: \u001b[32m'A Brief History of Time'\u001b[39m },\n",
      "  { title: \u001b[32m'A Brighter Summer Day'\u001b[39m, year: \u001b[33m1991\u001b[39m }\n",
      "]\n"
     ]
    }
   ],
   "source": [
    "readString = \"db.movies.find({year:1991},{title:1,year:1,_id:0}).sort({title:1}).limit(3)\"\n",
    "\n",
    "!mongosh {mongoDB_connection_string} --quiet  --username {mongoDB_username} -p {mongoDB_password} \\\n",
    "--eval \"use sample_mflix\" \\\n",
    "--eval \"{readString}\""
   ]
  },
  {
   "cell_type": "code",
   "execution_count": 19,
   "metadata": {},
   "outputs": [
    {
     "name": "stdout",
     "output_type": "stream",
     "text": [
      "\u001b]0;mongosh mongodb+srv://<credentials>@devcert.6ngvd.mongodb.net/\u0007\u001b[1G\u001b[0J \u001b[1G[\n",
      "  { title: \u001b[32m'35 Up'\u001b[39m, year: \u001b[33m1991\u001b[39m },\n",
      "  { year: \u001b[33m1991\u001b[39m, title: \u001b[32m'A Brief History of Time'\u001b[39m },\n",
      "  { title: \u001b[32m'A Brighter Summer Day'\u001b[39m, year: \u001b[33m1991\u001b[39m }\n",
      "]\n"
     ]
    }
   ],
   "source": [
    "readString = \"db.movies.find({year:1991},{title:1,year:1,_id:0}).limit(3).sort({title:1})\"\n",
    "\n",
    "!mongosh {mongoDB_connection_string} --quiet  --username {mongoDB_username} -p {mongoDB_password} \\\n",
    "--eval \"use sample_mflix\" \\\n",
    "--eval \"{readString}\""
   ]
  },
  {
   "cell_type": "markdown",
   "metadata": {},
   "source": [
    "Note that the order of `sort()` and `limit()` doesn't affect the results\n",
    "\n",
    "## `Filter` Deep Dive\n",
    "\n",
    "- If multiple `{key:value}` pairs are passed into the `filter`, the behavior is a boolean `and`. \n",
    "- There are *[operators](https://www.mongodb.com/docs/manual/reference/operator/query/)* that enhance functionality of MQL. **It is imperative to know what most of the operators do to be a MongoDB certified developer**\n",
    "- The way to do a boolean `or` is via the operator  `{$or:[]}`\n",
    " \n",
    "### Operators\n",
    "\n",
    "As I just mentioned, knowing operators are important. Here is a non comprehensive list of operators:\n",
    "- `eq` - \"equal\": it is similar to a normal query\n",
    "- `$gt/$gte/$lt/$lte` - greater [and equal] / less than [and equal]: important operator for range queries\n",
    "- `{$in:[]} / {$nin:[]}` - in or not in: multiple value equality match\n",
    "- `$ne` - \"not equal\"\n",
    "- `$not`: inverses the logic of a query\n",
    "- `$or`: performs a boolean or\n",
    "- `$and`: performs a boolean and. usually used for [specific nesting situations](https://www.mongodb.com/docs/manual/reference/operator/query/and/#and-queries-with-multiple-expressions-specifying-the-same-operator)\n",
    "- `$exists`: filters based on key existence\n",
    "- `$type`: filters based on BSON type\n",
    "- `$elemMatch`: intended for querying on objects within arrays\n",
    "\n",
    "**IMPORTANT NOTE: Jupyer interprets** `$` **as a special character. so in the examples below I add a backslash before all instances of the dollar sign. We then print the query string without the backslash to help avoid confusion**\n",
    "\n",
    "Examples:"
   ]
  },
  {
   "cell_type": "code",
   "execution_count": 62,
   "metadata": {},
   "outputs": [
    {
     "name": "stdout",
     "output_type": "stream",
     "text": [
      "db.movies.find({year:1991,cast:'Brad Pitt'},{title:1,year:1,_id:0}).limit(3)\n",
      "\n",
      "\u001b]0;mongosh mongodb+srv://<credentials>@devcert.6ngvd.mongodb.net/\u0007\u001b[1G\u001b[0J \u001b[1G[ { year: \u001b[33m1991\u001b[39m, title: \u001b[32m'Johnny Suede'\u001b[39m } ]\n"
     ]
    }
   ],
   "source": [
    "readString = \"db.movies.find({year:1991,cast:'Brad Pitt'},{title:1,year:1,_id:0}).limit(3)\"\n",
    "\n",
    "print(readString.replace(\"\\\\\", \"\"))\n",
    "print(\"\")\n",
    "\n",
    "!mongosh {mongoDB_connection_string} --quiet  --username {mongoDB_username} -p {mongoDB_password} \\\n",
    "--eval \"use sample_mflix\" \\\n",
    "--eval \"\"\"{readString}\"\"\""
   ]
  },
  {
   "cell_type": "code",
   "execution_count": 63,
   "metadata": {},
   "outputs": [
    {
     "name": "stdout",
     "output_type": "stream",
     "text": [
      "db.movies.find({year:{$gt:1991}},{title:1,year:1,_id:0}).limit(3)\n",
      "\n",
      "\u001b]0;mongosh mongodb+srv://<credentials>@devcert.6ngvd.mongodb.net/\u0007\u001b[1G\u001b[0J \u001b[1G[\n",
      "  { title: \u001b[32m'Kate & Leopold'\u001b[39m, year: \u001b[33m2001\u001b[39m },\n",
      "  { title: \u001b[32m'Back to the USSR - takaisin Ryssiin'\u001b[39m, year: \u001b[33m1992\u001b[39m },\n",
      "  { title: \u001b[32m'Crime and Punishment'\u001b[39m, year: \u001b[33m2002\u001b[39m }\n",
      "]\n"
     ]
    }
   ],
   "source": [
    "readString = \"db.movies.find({year:{\\$gt:1991}},{title:1,year:1,_id:0}).limit(3)\"\n",
    "\n",
    "print(readString.replace(\"\\\\\", \"\"))\n",
    "print(\"\")\n",
    "\n",
    "!mongosh {mongoDB_connection_string} --quiet  --username {mongoDB_username} -p {mongoDB_password} \\\n",
    "--eval \"use sample_mflix\" \\\n",
    "--eval \"\"\"{readString}\"\"\""
   ]
  },
  {
   "cell_type": "code",
   "execution_count": 56,
   "metadata": {},
   "outputs": [
    {
     "name": "stdout",
     "output_type": "stream",
     "text": [
      "db.movies.find({year:{$lt:1991}},{title:1,year:1,_id:0}).limit(3)\n",
      "\n",
      "\u001b]0;mongosh mongodb+srv://<credentials>@devcert.6ngvd.mongodb.net/\u0007\u001b[1G\u001b[0J \u001b[1G[\n",
      "  {\n",
      "    title: \u001b[32m'Winsor McCay, the Famous Cartoonist of the N.Y. Herald and His Moving Comics'\u001b[39m,\n",
      "    year: \u001b[33m1911\u001b[39m\n",
      "  },\n",
      "  { title: \u001b[32m'In the Land of the Head Hunters'\u001b[39m, year: \u001b[33m1914\u001b[39m },\n",
      "  { title: \u001b[32m'The Perils of Pauline'\u001b[39m, year: \u001b[33m1914\u001b[39m }\n",
      "]\n"
     ]
    }
   ],
   "source": [
    "readString = \"db.movies.find({year:{\\$lt:1991}},{title:1,year:1,_id:0}).limit(3)\"\n",
    "\n",
    "print(readString.replace(\"\\\\\", \"\"))\n",
    "print(\"\")\n",
    "\n",
    "!mongosh {mongoDB_connection_string} --quiet  --username {mongoDB_username} -p {mongoDB_password} \\\n",
    "--eval \"use sample_mflix\" \\\n",
    "--eval \"\"\"{readString}\"\"\""
   ]
  },
  {
   "cell_type": "code",
   "execution_count": 58,
   "metadata": {},
   "outputs": [
    {
     "name": "stdout",
     "output_type": "stream",
     "text": [
      "db.movies.find({year:{$in:[1991,2001,2011]}},{title:1,year:1,_id:0}).limit(3)\n",
      "\n",
      "\u001b]0;mongosh mongodb+srv://<credentials>@devcert.6ngvd.mongodb.net/\u0007\u001b[1G\u001b[0J \u001b[1G[\n",
      "  { title: \u001b[32m'Kate & Leopold'\u001b[39m, year: \u001b[33m2001\u001b[39m },\n",
      "  { title: \u001b[32m'The House of Smiles'\u001b[39m, year: \u001b[33m1991\u001b[39m },\n",
      "  { title: \u001b[32m'They Call Me Macho Woman!'\u001b[39m, year: \u001b[33m1991\u001b[39m }\n",
      "]\n"
     ]
    }
   ],
   "source": [
    "readString = \"db.movies.find({year:{\\$in:[1991,2001,2011]}},{title:1,year:1,_id:0}).limit(3)\"\n",
    "\n",
    "print(readString.replace(\"\\\\\", \"\"))\n",
    "print(\"\")\n",
    "\n",
    "!mongosh {mongoDB_connection_string} --quiet  --username {mongoDB_username} -p {mongoDB_password} \\\n",
    "--eval \"use sample_mflix\" \\\n",
    "--eval \"\"\"{readString}\"\"\""
   ]
  },
  {
   "cell_type": "code",
   "execution_count": 64,
   "metadata": {},
   "outputs": [
    {
     "name": "stdout",
     "output_type": "stream",
     "text": [
      "db.movies.find({year:{$ne:1991}},{title:1,year:1,_id:0}).limit(3)\n",
      "\n",
      "\u001b]0;mongosh mongodb+srv://<credentials>@devcert.6ngvd.mongodb.net/\u0007\u001b[1G\u001b[0J \u001b[1G[\n",
      "  {\n",
      "    title: \u001b[32m'Winsor McCay, the Famous Cartoonist of the N.Y. Herald and His Moving Comics'\u001b[39m,\n",
      "    year: \u001b[33m1911\u001b[39m\n",
      "  },\n",
      "  { title: \u001b[32m'In the Land of the Head Hunters'\u001b[39m, year: \u001b[33m1914\u001b[39m },\n",
      "  { title: \u001b[32m'The Perils of Pauline'\u001b[39m, year: \u001b[33m1914\u001b[39m }\n",
      "]\n"
     ]
    }
   ],
   "source": [
    "readString = \"db.movies.find({year:{\\$ne:1991}},{title:1,year:1,_id:0}).limit(3)\"\n",
    "\n",
    "print(readString.replace(\"\\\\\", \"\"))\n",
    "print(\"\")\n",
    "\n",
    "!mongosh {mongoDB_connection_string} --quiet  --username {mongoDB_username} -p {mongoDB_password} \\\n",
    "--eval \"use sample_mflix\" \\\n",
    "--eval \"\"\"{readString}\"\"\""
   ]
  },
  {
   "cell_type": "code",
   "execution_count": 67,
   "metadata": {},
   "outputs": [
    {
     "name": "stdout",
     "output_type": "stream",
     "text": [
      "db.movies.find({$or:[{year:1920},{runtime:100}]},{title:1,year:1,runtime:1,_id:0}).limit(3)\n",
      "\n",
      "\u001b]0;mongosh mongodb+srv://<credentials>@devcert.6ngvd.mongodb.net/\u0007\u001b[1G\u001b[0J \u001b[1G[\n",
      "  { runtime: \u001b[33m100\u001b[39m, title: \u001b[32m'Tarzan the Ape Man'\u001b[39m, year: \u001b[33m1932\u001b[39m },\n",
      "  { runtime: \u001b[33m26\u001b[39m, title: \u001b[32m'High and Dizzy'\u001b[39m, year: \u001b[33m1920\u001b[39m },\n",
      "  { runtime: \u001b[33m100\u001b[39m, title: \u001b[32m'Dekigokoro'\u001b[39m, year: \u001b[33m1933\u001b[39m }\n",
      "]\n"
     ]
    }
   ],
   "source": [
    "readString = \"db.movies.find({\\$or:[{year:1920},{runtime:100}]},{title:1,year:1,runtime:1,_id:0}).limit(3)\"\n",
    "\n",
    "print(readString.replace(\"\\\\\", \"\"))\n",
    "print(\"\")\n",
    "\n",
    "!mongosh {mongoDB_connection_string} --quiet  --username {mongoDB_username} -p {mongoDB_password} \\\n",
    "--eval \"use sample_mflix\" \\\n",
    "--eval \"\"\"{readString}\"\"\""
   ]
  },
  {
   "cell_type": "code",
   "execution_count": 74,
   "metadata": {
    "scrolled": true
   },
   "outputs": [
    {
     "name": "stdout",
     "output_type": "stream",
     "text": [
      "db.movies.findOne({'runtime':{$exists:false}},{title:1,year:1,_id:0})\n",
      "\n",
      "\u001b]0;mongosh mongodb+srv://<credentials>@devcert.6ngvd.mongodb.net/\u0007\u001b[1G\u001b[0J \u001b[1G{ title: \u001b[32m'Mi adorado Juan'\u001b[39m, year: \u001b[33m1950\u001b[39m }\n"
     ]
    }
   ],
   "source": [
    "readString = \"db.movies.findOne({'runtime':{\\$exists:false}},{title:1,year:1,_id:0})\"\n",
    "\n",
    "print(readString.replace(\"\\\\\", \"\"))\n",
    "print(\"\")\n",
    "\n",
    "!mongosh {mongoDB_connection_string} --quiet  --username {mongoDB_username} -p {mongoDB_password} \\\n",
    "--eval \"use sample_mflix\" \\\n",
    "--eval \"\"\"{readString}\"\"\""
   ]
  },
  {
   "cell_type": "code",
   "execution_count": 75,
   "metadata": {},
   "outputs": [
    {
     "name": "stdout",
     "output_type": "stream",
     "text": [
      "db.movies.findOne({'_id':{$type:'objectId'}},{title:1,year:1,_id:0})\n",
      "\n",
      "\u001b]0;mongosh mongodb+srv://<credentials>@devcert.6ngvd.mongodb.net/\u0007\u001b[1G\u001b[0J \u001b[1G{ title: \u001b[32m'The Great Train Robbery'\u001b[39m, year: \u001b[33m1903\u001b[39m }\n"
     ]
    }
   ],
   "source": [
    "readString = \"db.movies.findOne({'_id':{\\$type:'objectId'}},{title:1,year:1,_id:0})\"\n",
    "\n",
    "print(readString.replace(\"\\\\\", \"\"))\n",
    "print(\"\")\n",
    "\n",
    "!mongosh {mongoDB_connection_string} --quiet  --username {mongoDB_username} -p {mongoDB_password} \\\n",
    "--eval \"use sample_mflix\" \\\n",
    "--eval \"\"\"{readString}\"\"\""
   ]
  },
  {
   "cell_type": "markdown",
   "metadata": {},
   "source": [
    "## Filtering on Arrays and Sub Documents\n",
    "\n",
    "Oftentimes, you will be filtering on keys that aren't a value, but a data structure like an array or a subdocument. The `sample_mflix.movies` collection has some examples of this:"
   ]
  },
  {
   "cell_type": "code",
   "execution_count": 82,
   "metadata": {},
   "outputs": [
    {
     "name": "stdout",
     "output_type": "stream",
     "text": [
      "db.movies.findOne({title:'Groundhog Day'},{title:1,year:1,_id:0, genres:1})\n",
      "\n",
      "\u001b]0;mongosh mongodb+srv://<credentials>@devcert.6ngvd.mongodb.net/\u0007\u001b[1G\u001b[0J \u001b[1G{ year: \u001b[33m1993\u001b[39m, genres: [ \u001b[32m'Comedy'\u001b[39m, \u001b[32m'Romance'\u001b[39m ], title: \u001b[32m'Groundhog Day'\u001b[39m }\n"
     ]
    }
   ],
   "source": [
    "# array of scalars: genres\n",
    "readString = \"db.movies.findOne({title:'Groundhog Day'},{title:1,year:1,_id:0, genres:1})\"\n",
    "\n",
    "print(readString.replace(\"\\\\\", \"\"))\n",
    "print(\"\")\n",
    "\n",
    "!mongosh {mongoDB_connection_string} --quiet  --username {mongoDB_username} -p {mongoDB_password} \\\n",
    "--eval \"use sample_mflix\" \\\n",
    "--eval \"\"\"{readString}\"\"\""
   ]
  },
  {
   "cell_type": "code",
   "execution_count": 78,
   "metadata": {},
   "outputs": [
    {
     "name": "stdout",
     "output_type": "stream",
     "text": [
      "db.movies.findOne({title:'Groundhog Day'},{title:1,year:1,_id:0, tomatoes:1})\n",
      "\n",
      "\u001b]0;mongosh mongodb+srv://<credentials>@devcert.6ngvd.mongodb.net/\u0007\u001b[1G\u001b[0J \u001b[1G{\n",
      "  year: \u001b[33m1993\u001b[39m,\n",
      "  title: \u001b[32m'Groundhog Day'\u001b[39m,\n",
      "  tomatoes: {\n",
      "    viewer: { rating: \u001b[33m3.4\u001b[39m, numReviews: \u001b[33m413200\u001b[39m, meter: \u001b[33m87\u001b[39m },\n",
      "    dvd: ISODate(\"2002-01-29T00:00:00.000Z\"),\n",
      "    critic: { rating: \u001b[33m8\u001b[39m, numReviews: \u001b[33m71\u001b[39m, meter: \u001b[33m96\u001b[39m },\n",
      "    lastUpdated: ISODate(\"2015-09-12T17:28:16.000Z\"),\n",
      "    consensus: \u001b[32m\"Smart, sweet, and inventive, Groundhog Day highlights Murray's dramatic gifts while still leaving plenty of room for laughs.\"\u001b[39m,\n",
      "    rotten: \u001b[33m3\u001b[39m,\n",
      "    production: \u001b[32m'Columbia Pictures'\u001b[39m,\n",
      "    fresh: \u001b[33m68\u001b[39m\n",
      "  }\n",
      "}\n"
     ]
    }
   ],
   "source": [
    "# subdocument within subdocument: tomatoes.viewer & tomatoes.critic\n",
    "readString = \"db.movies.findOne({title:'Groundhog Day'},{title:1,year:1,_id:0, tomatoes:1})\"\n",
    "\n",
    "print(readString.replace(\"\\\\\", \"\"))\n",
    "print(\"\")\n",
    "\n",
    "!mongosh {mongoDB_connection_string} --quiet  --username {mongoDB_username} -p {mongoDB_password} \\\n",
    "--eval \"use sample_mflix\" \\\n",
    "--eval \"\"\"{readString}\"\"\""
   ]
  },
  {
   "cell_type": "markdown",
   "metadata": {},
   "source": [
    "Another sample data collection that has some great examples of nested structures is `sample_supplies.sales`. These documents generally have a structure which is: array of objects, and each object has it's own associated array:"
   ]
  },
  {
   "cell_type": "code",
   "execution_count": 79,
   "metadata": {},
   "outputs": [
    {
     "name": "stdout",
     "output_type": "stream",
     "text": [
      "db.sales.findOne({})\n",
      "\n",
      "\u001b]0;mongosh mongodb+srv://<credentials>@devcert.6ngvd.mongodb.net/\u0007\u001b[1G\u001b[0J \u001b[1G{\n",
      "  _id: ObjectId(\"5bd761dcae323e45a93ccfea\"),\n",
      "  saleDate: ISODate(\"2017-06-22T09:54:14.185Z\"),\n",
      "  items: [\n",
      "    {\n",
      "      name: \u001b[32m'notepad'\u001b[39m,\n",
      "      tags: [ \u001b[32m'office'\u001b[39m, \u001b[32m'writing'\u001b[39m, \u001b[32m'school'\u001b[39m ],\n",
      "      price: Decimal128(\"30.08\"),\n",
      "      quantity: \u001b[33m1\u001b[39m\n",
      "    },\n",
      "    {\n",
      "      name: \u001b[32m'binder'\u001b[39m,\n",
      "      tags: [ \u001b[32m'school'\u001b[39m, \u001b[32m'general'\u001b[39m, \u001b[32m'organization'\u001b[39m ],\n",
      "      price: Decimal128(\"24.68\"),\n",
      "      quantity: \u001b[33m7\u001b[39m\n",
      "    },\n",
      "    {\n",
      "      name: \u001b[32m'notepad'\u001b[39m,\n",
      "      tags: [ \u001b[32m'office'\u001b[39m, \u001b[32m'writing'\u001b[39m, \u001b[32m'school'\u001b[39m ],\n",
      "      price: Decimal128(\"32.1\"),\n",
      "      quantity: \u001b[33m4\u001b[39m\n",
      "    },\n",
      "    {\n",
      "      name: \u001b[32m'pens'\u001b[39m,\n",
      "      tags: [ \u001b[32m'writing'\u001b[39m, \u001b[32m'office'\u001b[39m, \u001b[32m'school'\u001b[39m, \u001b[32m'stationary'\u001b[39m ],\n",
      "      price: Decimal128(\"31.41\"),\n",
      "      quantity: \u001b[33m3\u001b[39m\n",
      "    },\n",
      "    {\n",
      "      name: \u001b[32m'printer paper'\u001b[39m,\n",
      "      tags: [ \u001b[32m'office'\u001b[39m, \u001b[32m'stationary'\u001b[39m ],\n",
      "      price: Decimal128(\"43.56\"),\n",
      "      quantity: \u001b[33m3\u001b[39m\n",
      "    },\n",
      "    {\n",
      "      name: \u001b[32m'pens'\u001b[39m,\n",
      "      tags: [ \u001b[32m'writing'\u001b[39m, \u001b[32m'office'\u001b[39m, \u001b[32m'school'\u001b[39m, \u001b[32m'stationary'\u001b[39m ],\n",
      "      price: Decimal128(\"68.95\"),\n",
      "      quantity: \u001b[33m4\u001b[39m\n",
      "    },\n",
      "    {\n",
      "      name: \u001b[32m'notepad'\u001b[39m,\n",
      "      tags: [ \u001b[32m'office'\u001b[39m, \u001b[32m'writing'\u001b[39m, \u001b[32m'school'\u001b[39m ],\n",
      "      price: Decimal128(\"8.57\"),\n",
      "      quantity: \u001b[33m4\u001b[39m\n",
      "    },\n",
      "    {\n",
      "      name: \u001b[32m'backpack'\u001b[39m,\n",
      "      tags: [ \u001b[32m'school'\u001b[39m, \u001b[32m'travel'\u001b[39m, \u001b[32m'kids'\u001b[39m ],\n",
      "      price: Decimal128(\"106.6\"),\n",
      "      quantity: \u001b[33m2\u001b[39m\n",
      "    },\n",
      "    {\n",
      "      name: \u001b[32m'laptop'\u001b[39m,\n",
      "      tags: [ \u001b[32m'electronics'\u001b[39m, \u001b[32m'school'\u001b[39m, \u001b[32m'office'\u001b[39m ],\n",
      "      price: Decimal128(\"596.33\"),\n",
      "      quantity: \u001b[33m4\u001b[39m\n",
      "    }\n",
      "  ],\n",
      "  storeLocation: \u001b[32m'Denver'\u001b[39m,\n",
      "  customer: { gender: \u001b[32m'M'\u001b[39m, age: \u001b[33m51\u001b[39m, email: \u001b[32m'worbiduh@vowbu.cg'\u001b[39m, satisfaction: \u001b[33m5\u001b[39m },\n",
      "  couponUsed: \u001b[33mfalse\u001b[39m,\n",
      "  purchaseMethod: \u001b[32m'In store'\u001b[39m\n",
      "}\n"
     ]
    }
   ],
   "source": [
    "readString = \"db.sales.findOne({})\"\n",
    "\n",
    "print(readString.replace(\"\\\\\", \"\"))\n",
    "print(\"\")\n",
    "\n",
    "!mongosh {mongoDB_connection_string} --quiet  --username {mongoDB_username} -p {mongoDB_password} \\\n",
    "--eval \"use sample_supplies\" \\\n",
    "--eval \"\"\"{readString}\"\"\""
   ]
  },
  {
   "cell_type": "markdown",
   "metadata": {},
   "source": [
    "**concepts related to querying these shapes**\n",
    "- for sub documents, use \"parent.child.granchild\" syntax.\n",
    "- scalar queries against array fields look for *existence*\n",
    "- array queries against array fields look for array equality\n",
    "- `$elemMatch` will be important here. We'll look in a sec"
   ]
  },
  {
   "cell_type": "code",
   "execution_count": 81,
   "metadata": {},
   "outputs": [
    {
     "name": "stdout",
     "output_type": "stream",
     "text": [
      "db.movies.findOne({'tomatoes.viewer.rating':3.4},{title:1,year:1,_id:0, tomatoes:1})\n",
      "\n",
      "\u001b]0;mongosh mongodb+srv://<credentials>@devcert.6ngvd.mongodb.net/\u0007\u001b[1G\u001b[0J \u001b[1G{\n",
      "  title: \u001b[32m'Winsor McCay, the Famous Cartoonist of the N.Y. Herald and His Moving Comics'\u001b[39m,\n",
      "  year: \u001b[33m1911\u001b[39m,\n",
      "  tomatoes: {\n",
      "    viewer: { rating: \u001b[33m3.4\u001b[39m, numReviews: \u001b[33m89\u001b[39m, meter: \u001b[33m47\u001b[39m },\n",
      "    lastUpdated: ISODate(\"2015-08-20T18:51:24.000Z\")\n",
      "  }\n",
      "}\n"
     ]
    }
   ],
   "source": [
    "# filtering on subdocument\n",
    "readString = \"db.movies.findOne({'tomatoes.viewer.rating':3.4},{title:1,year:1,_id:0, tomatoes:1})\"\n",
    "\n",
    "print(readString.replace(\"\\\\\", \"\"))\n",
    "print(\"\")\n",
    "\n",
    "!mongosh {mongoDB_connection_string} --quiet  --username {mongoDB_username} -p {mongoDB_password} \\\n",
    "--eval \"use sample_mflix\" \\\n",
    "--eval \"\"\"{readString}\"\"\""
   ]
  },
  {
   "cell_type": "code",
   "execution_count": 84,
   "metadata": {},
   "outputs": [
    {
     "name": "stdout",
     "output_type": "stream",
     "text": [
      "db.movies.findOne({genres:'Comedy'},{title:1,year:1,_id:0, genres:1})\n",
      "\n",
      "\u001b]0;mongosh mongodb+srv://<credentials>@devcert.6ngvd.mongodb.net/\u0007\u001b[1G\u001b[0J \u001b[1G{\n",
      "  genres: [ \u001b[32m'Animation'\u001b[39m, \u001b[32m'Short'\u001b[39m, \u001b[32m'Comedy'\u001b[39m ],\n",
      "  title: \u001b[32m'Winsor McCay, the Famous Cartoonist of the N.Y. Herald and His Moving Comics'\u001b[39m,\n",
      "  year: \u001b[33m1911\u001b[39m\n",
      "}\n"
     ]
    }
   ],
   "source": [
    "# array existence\n",
    "readString = \"db.movies.findOne({genres:'Comedy'},{title:1,year:1,_id:0, genres:1})\"\n",
    "\n",
    "print(readString.replace(\"\\\\\", \"\"))\n",
    "print(\"\")\n",
    "\n",
    "!mongosh {mongoDB_connection_string} --quiet  --username {mongoDB_username} -p {mongoDB_password} \\\n",
    "--eval \"use sample_mflix\" \\\n",
    "--eval \"\"\"{readString}\"\"\""
   ]
  },
  {
   "cell_type": "code",
   "execution_count": 85,
   "metadata": {},
   "outputs": [
    {
     "name": "stdout",
     "output_type": "stream",
     "text": [
      "db.movies.findOne({genres:['Comedy']},{title:1,year:1,_id:0, genres:1})\n",
      "\n",
      "\u001b]0;mongosh mongodb+srv://<credentials>@devcert.6ngvd.mongodb.net/\u0007\u001b[1G\u001b[0J \u001b[1G{ genres: [ \u001b[32m'Comedy'\u001b[39m ], title: \u001b[32m'The Strong Man'\u001b[39m, year: \u001b[33m1926\u001b[39m }\n"
     ]
    }
   ],
   "source": [
    "# array equality\n",
    "readString = \"db.movies.findOne({genres:['Comedy']},{title:1,year:1,_id:0, genres:1})\"\n",
    "\n",
    "print(readString.replace(\"\\\\\", \"\"))\n",
    "print(\"\")\n",
    "\n",
    "!mongosh {mongoDB_connection_string} --quiet  --username {mongoDB_username} -p {mongoDB_password} \\\n",
    "--eval \"use sample_mflix\" \\\n",
    "--eval \"\"\"{readString}\"\"\""
   ]
  },
  {
   "cell_type": "markdown",
   "metadata": {},
   "source": [
    "**... on `$elemMatch`**\n",
    "- `$elemMatch` is a special operator for multi-key filtering among arrays of subdocuments\n",
    "- consider the following query:"
   ]
  },
  {
   "cell_type": "code",
   "execution_count": 95,
   "metadata": {},
   "outputs": [
    {
     "name": "stdout",
     "output_type": "stream",
     "text": [
      "db.sales.findOne({'items.name':'binder','items.quantity':{$gt:7}})\n",
      "\n",
      "\u001b]0;mongosh mongodb+srv://<credentials>@devcert.6ngvd.mongodb.net/\u0007\u001b[1G\u001b[0J \u001b[1G{\n",
      "  _id: ObjectId(\"5bd761dcae323e45a93ccff6\"),\n",
      "  saleDate: ISODate(\"2017-08-21T20:38:34.618Z\"),\n",
      "  items: [\n",
      "    {\n",
      "      name: \u001b[32m'printer paper'\u001b[39m,\n",
      "      tags: [ \u001b[32m'office'\u001b[39m, \u001b[32m'stationary'\u001b[39m ],\n",
      "      price: Decimal128(\"14.96\"),\n",
      "      quantity: \u001b[33m10\u001b[39m\n",
      "    },\n",
      "    {\n",
      "      name: \u001b[32m'laptop'\u001b[39m,\n",
      "      tags: [ \u001b[32m'electronics'\u001b[39m, \u001b[32m'school'\u001b[39m, \u001b[32m'office'\u001b[39m ],\n",
      "      price: Decimal128(\"1223.33\"),\n",
      "      quantity: \u001b[33m1\u001b[39m\n",
      "    },\n",
      "    {\n",
      "      name: \u001b[32m'notepad'\u001b[39m,\n",
      "      tags: [ \u001b[32m'office'\u001b[39m, \u001b[32m'writing'\u001b[39m, \u001b[32m'school'\u001b[39m ],\n",
      "      price: Decimal128(\"18.09\"),\n",
      "      quantity: \u001b[33m3\u001b[39m\n",
      "    },\n",
      "    {\n",
      "      name: \u001b[32m'notepad'\u001b[39m,\n",
      "      tags: [ \u001b[32m'office'\u001b[39m, \u001b[32m'writing'\u001b[39m, \u001b[32m'school'\u001b[39m ],\n",
      "      price: Decimal128(\"25.15\"),\n",
      "      quantity: \u001b[33m3\u001b[39m\n",
      "    },\n",
      "    {\n",
      "      name: \u001b[32m'pens'\u001b[39m,\n",
      "      tags: [ \u001b[32m'writing'\u001b[39m, \u001b[32m'office'\u001b[39m, \u001b[32m'school'\u001b[39m, \u001b[32m'stationary'\u001b[39m ],\n",
      "      price: Decimal128(\"47.36\"),\n",
      "      quantity: \u001b[33m2\u001b[39m\n",
      "    },\n",
      "    {\n",
      "      name: \u001b[32m'notepad'\u001b[39m,\n",
      "      tags: [ \u001b[32m'office'\u001b[39m, \u001b[32m'writing'\u001b[39m, \u001b[32m'school'\u001b[39m ],\n",
      "      price: Decimal128(\"11.5\"),\n",
      "      quantity: \u001b[33m5\u001b[39m\n",
      "    },\n",
      "    {\n",
      "      name: \u001b[32m'binder'\u001b[39m,\n",
      "      tags: [ \u001b[32m'school'\u001b[39m, \u001b[32m'general'\u001b[39m, \u001b[32m'organization'\u001b[39m ],\n",
      "      price: Decimal128(\"23.24\"),\n",
      "      quantity: \u001b[33m6\u001b[39m\n",
      "    },\n",
      "    {\n",
      "      name: \u001b[32m'envelopes'\u001b[39m,\n",
      "      tags: [ \u001b[32m'stationary'\u001b[39m, \u001b[32m'office'\u001b[39m, \u001b[32m'general'\u001b[39m ],\n",
      "      price: Decimal128(\"5.68\"),\n",
      "      quantity: \u001b[33m8\u001b[39m\n",
      "    }\n",
      "  ],\n",
      "  storeLocation: \u001b[32m'San Diego'\u001b[39m,\n",
      "  customer: { gender: \u001b[32m'F'\u001b[39m, age: \u001b[33m36\u001b[39m, email: \u001b[32m'gul@waija.nz'\u001b[39m, satisfaction: \u001b[33m5\u001b[39m },\n",
      "  couponUsed: \u001b[33mfalse\u001b[39m,\n",
      "  purchaseMethod: \u001b[32m'Online'\u001b[39m\n",
      "}\n"
     ]
    }
   ],
   "source": [
    "readString = \"db.sales.findOne({'items.name':'binder','items.quantity':{\\$gt:7}})\"\n",
    "\n",
    "print(readString.replace(\"\\\\\", \"\"))\n",
    "print(\"\")\n",
    "\n",
    "!mongosh {mongoDB_connection_string} --quiet  --username {mongoDB_username} -p {mongoDB_password} \\\n",
    "--eval \"use sample_supplies\" \\\n",
    "--eval \"\"\"{readString}\"\"\""
   ]
  },
  {
   "cell_type": "markdown",
   "metadata": {},
   "source": [
    "At first glance, it looks like I am trying to filter on a sale where in the line items is a sale of greater than 7 binders. However, the above result returned, which doesn't include a sale of greate than 7 or binders. This is becuase the way the query is interpreted, it is looking for array existence. so any array that has a value of `name:binder` and `quantity:$gt:7` is returned.\n",
    "\n",
    "This is where `$elemMatch` comes in. look at this query:"
   ]
  },
  {
   "cell_type": "code",
   "execution_count": 96,
   "metadata": {},
   "outputs": [
    {
     "name": "stdout",
     "output_type": "stream",
     "text": [
      "db.sales.findOne({items:{$elemMatch:{name:'binder',quantity:{$gt:7}}}})\n",
      "\n",
      "\u001b]0;mongosh mongodb+srv://<credentials>@devcert.6ngvd.mongodb.net/\u0007\u001b[1G\u001b[0J \u001b[1G{\n",
      "  _id: ObjectId(\"5bd761dcae323e45a93ccff9\"),\n",
      "  saleDate: ISODate(\"2017-11-12T20:30:15.045Z\"),\n",
      "  items: [\n",
      "    {\n",
      "      name: \u001b[32m'notepad'\u001b[39m,\n",
      "      tags: [ \u001b[32m'office'\u001b[39m, \u001b[32m'writing'\u001b[39m, \u001b[32m'school'\u001b[39m ],\n",
      "      price: Decimal128(\"9.91\"),\n",
      "      quantity: \u001b[33m3\u001b[39m\n",
      "    },\n",
      "    {\n",
      "      name: \u001b[32m'pens'\u001b[39m,\n",
      "      tags: [ \u001b[32m'writing'\u001b[39m, \u001b[32m'office'\u001b[39m, \u001b[32m'school'\u001b[39m, \u001b[32m'stationary'\u001b[39m ],\n",
      "      price: Decimal128(\"22.01\"),\n",
      "      quantity: \u001b[33m4\u001b[39m\n",
      "    },\n",
      "    {\n",
      "      name: \u001b[32m'backpack'\u001b[39m,\n",
      "      tags: [ \u001b[32m'school'\u001b[39m, \u001b[32m'travel'\u001b[39m, \u001b[32m'kids'\u001b[39m ],\n",
      "      price: Decimal128(\"57.14\"),\n",
      "      quantity: \u001b[33m2\u001b[39m\n",
      "    },\n",
      "    {\n",
      "      name: \u001b[32m'binder'\u001b[39m,\n",
      "      tags: [ \u001b[32m'school'\u001b[39m, \u001b[32m'general'\u001b[39m, \u001b[32m'organization'\u001b[39m ],\n",
      "      price: Decimal128(\"21.92\"),\n",
      "      quantity: \u001b[33m7\u001b[39m\n",
      "    },\n",
      "    {\n",
      "      name: \u001b[32m'binder'\u001b[39m,\n",
      "      tags: [ \u001b[32m'school'\u001b[39m, \u001b[32m'general'\u001b[39m, \u001b[32m'organization'\u001b[39m ],\n",
      "      price: Decimal128(\"20.12\"),\n",
      "      quantity: \u001b[33m9\u001b[39m\n",
      "    },\n",
      "    {\n",
      "      name: \u001b[32m'laptop'\u001b[39m,\n",
      "      tags: [ \u001b[32m'electronics'\u001b[39m, \u001b[32m'school'\u001b[39m, \u001b[32m'office'\u001b[39m ],\n",
      "      price: Decimal128(\"1541.76\"),\n",
      "      quantity: \u001b[33m3\u001b[39m\n",
      "    },\n",
      "    {\n",
      "      name: \u001b[32m'printer paper'\u001b[39m,\n",
      "      tags: [ \u001b[32m'office'\u001b[39m, \u001b[32m'stationary'\u001b[39m ],\n",
      "      price: Decimal128(\"45.86\"),\n",
      "      quantity: \u001b[33m6\u001b[39m\n",
      "    }\n",
      "  ],\n",
      "  storeLocation: \u001b[32m'London'\u001b[39m,\n",
      "  customer: { gender: \u001b[32m'F'\u001b[39m, age: \u001b[33m50\u001b[39m, email: \u001b[32m'velo@nukav.fr'\u001b[39m, satisfaction: \u001b[33m5\u001b[39m },\n",
      "  couponUsed: \u001b[33mfalse\u001b[39m,\n",
      "  purchaseMethod: \u001b[32m'In store'\u001b[39m\n",
      "}\n"
     ]
    }
   ],
   "source": [
    "readString = \"db.sales.findOne({items:{\\$elemMatch:{name:'binder',quantity:{\\$gt:7}}}})\"\n",
    "\n",
    "print(readString.replace(\"\\\\\", \"\"))\n",
    "print(\"\")\n",
    "\n",
    "!mongosh {mongoDB_connection_string} --quiet  --username {mongoDB_username} -p {mongoDB_password} \\\n",
    "--eval \"use sample_supplies\" \\\n",
    "--eval \"\"\"{readString}\"\"\""
   ]
  },
  {
   "cell_type": "markdown",
   "metadata": {},
   "source": [
    "The above query only returns due to the line item that has `name:binder` and `quantity:9`"
   ]
  },
  {
   "cell_type": "markdown",
   "metadata": {},
   "source": [
    "## `countDocuments()`\n",
    "\n",
    "One other query to be aware of is `db.collection.countDocuments({filter})`\n",
    "\n",
    "it accepts all of the filters we've shown above, however the result is simply an integer which represents how many documents would be returned by the query\n",
    "\n",
    "**This is the new version of MDB legacy `db.collection.count({})`. `count()` is deprecated. This will probably come up on the exam**"
   ]
  },
  {
   "cell_type": "code",
   "execution_count": 97,
   "metadata": {},
   "outputs": [
    {
     "name": "stdout",
     "output_type": "stream",
     "text": [
      "db.movies.countDocuments({'runtime':{$exists:false}})\n",
      "\n",
      "\u001b]0;mongosh mongodb+srv://<credentials>@devcert.6ngvd.mongodb.net/\u0007\u001b[1G\u001b[0J \u001b[1G\u001b[33m439\u001b[39m\n"
     ]
    }
   ],
   "source": [
    "readString = \"db.movies.countDocuments({'runtime':{\\$exists:false}})\"\n",
    "\n",
    "print(readString.replace(\"\\\\\", \"\"))\n",
    "print(\"\")\n",
    "\n",
    "!mongosh {mongoDB_connection_string} --quiet  --username {mongoDB_username} -p {mongoDB_password} \\\n",
    "--eval \"use sample_mflix\" \\\n",
    "--eval \"\"\"{readString}\"\"\""
   ]
  },
  {
   "cell_type": "markdown",
   "metadata": {},
   "source": [
    "## Deletes\n",
    "\n",
    "Deletes are basically like `find`s in that they accept a filter a parameter. The difference is instead of returning documents, delete will.... delete them (believe it or not)\n",
    "\n",
    "2 main delete interfaces:\n",
    "- `db.collection.deleteOne({filter},{options})`\n",
    "- `db.collection.deleteMany({filter},{options})`\n",
    "\n",
    "Options include things like write concern (a mongoDB parameter for durability / performance tradeoffs) collation (for language support) and hint (index hinting)\n",
    "\n",
    "I won't spend too long here because we just spent so much time with filters and operators"
   ]
  },
  {
   "cell_type": "code",
   "execution_count": 109,
   "metadata": {},
   "outputs": [
    {
     "name": "stdout",
     "output_type": "stream",
     "text": [
      "\u001b]0;mongosh mongodb+srv://<credentials>@devcert.6ngvd.mongodb.net/\u0007\u001b[1G\u001b[0J \u001b[1G{\n",
      "  acknowledged: \u001b[33mtrue\u001b[39m,\n",
      "  insertedIds: {\n",
      "    \u001b[32m'0'\u001b[39m: ObjectId(\"64d3d14a4652eacdd2a8076e\"),\n",
      "    \u001b[32m'1'\u001b[39m: ObjectId(\"64d3d14a4652eacdd2a8076f\"),\n",
      "    \u001b[32m'2'\u001b[39m: ObjectId(\"64d3d14a4652eacdd2a80770\"),\n",
      "    \u001b[32m'3'\u001b[39m: ObjectId(\"64d3d14a4652eacdd2a80771\"),\n",
      "    \u001b[32m'4'\u001b[39m: ObjectId(\"64d3d14a4652eacdd2a80772\")\n",
      "  }\n",
      "}\n"
     ]
    }
   ],
   "source": [
    "# inserting docs to Delete\n",
    "insertString = \"db.testCollection2.insertMany([{a:1},{a:2},{a:3},{a:4},{a:5}])\"\n",
    "deleteString = \"db.testCollection2.deleteMany({})\"\n",
    "\n",
    "!mongosh {mongoDB_connection_string} --quiet  --username {mongoDB_username} -p {mongoDB_password} \\\n",
    "--eval \"use testDb\" \\\n",
    "--eval \"{deleteString}\" \\\n",
    "--eval \"{insertString}\""
   ]
  },
  {
   "cell_type": "code",
   "execution_count": 110,
   "metadata": {},
   "outputs": [
    {
     "name": "stdout",
     "output_type": "stream",
     "text": [
      "\u001b]0;mongosh mongodb+srv://<credentials>@devcert.6ngvd.mongodb.net/\u0007\u001b[1G\u001b[0J \u001b[1G{ acknowledged: \u001b[33mtrue\u001b[39m, deletedCount: \u001b[33m1\u001b[39m }\n"
     ]
    }
   ],
   "source": [
    "# deleteOne\n",
    "deleteString = \"db.testCollection2.deleteOne({a:1})\"\n",
    "\n",
    "!mongosh {mongoDB_connection_string} --quiet  --username {mongoDB_username} -p {mongoDB_password} \\\n",
    "--eval \"use testDb\" \\\n",
    "--eval \"{deleteString}\""
   ]
  },
  {
   "cell_type": "code",
   "execution_count": 111,
   "metadata": {},
   "outputs": [
    {
     "name": "stdout",
     "output_type": "stream",
     "text": [
      "\u001b]0;mongosh mongodb+srv://<credentials>@devcert.6ngvd.mongodb.net/\u0007\u001b[1G\u001b[0J \u001b[1G{ acknowledged: \u001b[33mtrue\u001b[39m, deletedCount: \u001b[33m0\u001b[39m }\n"
     ]
    }
   ],
   "source": [
    "# deleteOne\n",
    "deleteString = \"db.testCollection2.deleteOne({a:6})\"\n",
    "\n",
    "!mongosh {mongoDB_connection_string} --quiet  --username {mongoDB_username} -p {mongoDB_password} \\\n",
    "--eval \"use testDb\" \\\n",
    "--eval \"{deleteString}\""
   ]
  },
  {
   "cell_type": "code",
   "execution_count": 112,
   "metadata": {
    "scrolled": false
   },
   "outputs": [
    {
     "name": "stdout",
     "output_type": "stream",
     "text": [
      "\u001b]0;mongosh mongodb+srv://<credentials>@devcert.6ngvd.mongodb.net/\u0007\u001b[1G\u001b[0J \u001b[1G[\n",
      "  { _id: ObjectId(\"64d3d14a4652eacdd2a8076f\"), a: \u001b[33m2\u001b[39m },\n",
      "  { _id: ObjectId(\"64d3d14a4652eacdd2a80770\"), a: \u001b[33m3\u001b[39m },\n",
      "  { _id: ObjectId(\"64d3d14a4652eacdd2a80771\"), a: \u001b[33m4\u001b[39m },\n",
      "  { _id: ObjectId(\"64d3d14a4652eacdd2a80772\"), a: \u001b[33m5\u001b[39m }\n",
      "]\n"
     ]
    }
   ],
   "source": [
    "findString = \"db.testCollection2.find({})\"\n",
    "\n",
    "!mongosh {mongoDB_connection_string} --quiet  --username {mongoDB_username} -p {mongoDB_password} \\\n",
    "--eval \"use testDb\" \\\n",
    "--eval \"{findString}\""
   ]
  },
  {
   "cell_type": "code",
   "execution_count": 113,
   "metadata": {
    "scrolled": true
   },
   "outputs": [
    {
     "name": "stdout",
     "output_type": "stream",
     "text": [
      "db.testCollection2.deleteOne({a:{$lte:5}})\n",
      "\n",
      "\u001b]0;mongosh mongodb+srv://<credentials>@devcert.6ngvd.mongodb.net/\u0007\u001b[1G\u001b[0J \u001b[1G{ acknowledged: \u001b[33mtrue\u001b[39m, deletedCount: \u001b[33m1\u001b[39m }\n"
     ]
    }
   ],
   "source": [
    "# deleteOne\n",
    "deleteString = \"db.testCollection2.deleteOne({a:{\\$lte:5}})\"\n",
    "\n",
    "print(deleteString.replace(\"\\\\\", \"\"))\n",
    "print(\"\")\n",
    "\n",
    "!mongosh {mongoDB_connection_string} --quiet  --username {mongoDB_username} -p {mongoDB_password} \\\n",
    "--eval \"use testDb\" \\\n",
    "--eval \"{deleteString}\""
   ]
  },
  {
   "cell_type": "code",
   "execution_count": null,
   "metadata": {},
   "outputs": [],
   "source": [
    "#comment on natural order"
   ]
  },
  {
   "cell_type": "code",
   "execution_count": 114,
   "metadata": {},
   "outputs": [
    {
     "name": "stdout",
     "output_type": "stream",
     "text": [
      "\u001b]0;mongosh mongodb+srv://<credentials>@devcert.6ngvd.mongodb.net/\u0007\u001b[1G\u001b[0J \u001b[1G[\n",
      "  { _id: ObjectId(\"64d3d14a4652eacdd2a80770\"), a: \u001b[33m3\u001b[39m },\n",
      "  { _id: ObjectId(\"64d3d14a4652eacdd2a80771\"), a: \u001b[33m4\u001b[39m },\n",
      "  { _id: ObjectId(\"64d3d14a4652eacdd2a80772\"), a: \u001b[33m5\u001b[39m }\n",
      "]\n"
     ]
    }
   ],
   "source": [
    "findString = \"db.testCollection2.find({})\"\n",
    "\n",
    "!mongosh {mongoDB_connection_string} --quiet  --username {mongoDB_username} -p {mongoDB_password} \\\n",
    "--eval \"use testDb\" \\\n",
    "--eval \"{findString}\""
   ]
  },
  {
   "cell_type": "code",
   "execution_count": 115,
   "metadata": {},
   "outputs": [
    {
     "name": "stdout",
     "output_type": "stream",
     "text": [
      "db.testCollection2.deleteMany({a:{$gte:4}})\n",
      "\n",
      "\u001b]0;mongosh mongodb+srv://<credentials>@devcert.6ngvd.mongodb.net/\u0007\u001b[1G\u001b[0J \u001b[1G{ acknowledged: \u001b[33mtrue\u001b[39m, deletedCount: \u001b[33m2\u001b[39m }\n"
     ]
    }
   ],
   "source": [
    "# deleteMany\n",
    "deleteString = \"db.testCollection2.deleteMany({a:{\\$gte:4}})\"\n",
    "\n",
    "print(deleteString.replace(\"\\\\\", \"\"))\n",
    "print(\"\")\n",
    "\n",
    "!mongosh {mongoDB_connection_string} --quiet  --username {mongoDB_username} -p {mongoDB_password} \\\n",
    "--eval \"use testDb\" \\\n",
    "--eval \"{deleteString}\""
   ]
  },
  {
   "cell_type": "code",
   "execution_count": 116,
   "metadata": {},
   "outputs": [
    {
     "name": "stdout",
     "output_type": "stream",
     "text": [
      "\u001b]0;mongosh mongodb+srv://<credentials>@devcert.6ngvd.mongodb.net/\u0007\u001b[1G\u001b[0J \u001b[1G[ { _id: ObjectId(\"64d3d14a4652eacdd2a80770\"), a: \u001b[33m3\u001b[39m } ]\n"
     ]
    }
   ],
   "source": [
    "findString = \"db.testCollection2.find({})\"\n",
    "\n",
    "!mongosh {mongoDB_connection_string} --quiet  --username {mongoDB_username} -p {mongoDB_password} \\\n",
    "--eval \"use testDb\" \\\n",
    "--eval \"{findString}\""
   ]
  },
  {
   "cell_type": "markdown",
   "metadata": {},
   "source": [
    "## Updates\n",
    "\n",
    "Buckle up. Updates are the most nuanced of the queries that will show up on the developer certification exam.\n",
    "\n",
    "generally there are 3 main update commands:\n",
    "- `db.collection.updateOne({filter},{update},{options})`\n",
    "- `db.collection.updateMany({filter},{update},{options})`\n",
    "- `db.collection.findAndModify({query document})`\n",
    "\n",
    "I will focus on the first 2 for now  because they have similar syntax.\n",
    "\n",
    "- `{filter}` - same thing we've been talking about all class\n",
    "- `{update}` - either a replacement or a modification. We'll spend some time here\n",
    "- `{options}` - notably, `{upsert:true|false}` which we will also discuss\n",
    "\n",
    "### The `{update}` Object\n",
    "- if this is a document, it will act as a REPLACE OPERATION <-- this is actually legacy behavior and oftentimes will error out\n",
    "- similar to the filter operators, there are update operators that specify the type of modification desired.\n",
    "\n",
    "**Common Update Operators**\n",
    "- `$set` - adds / updates fields\n",
    "- `$unset` - removes fields\n",
    "- `$inc` - increments a field\n",
    "- `$pull / $push` - removes or inserts into an array\n",
    "\n",
    "Let's look at some examples:"
   ]
  },
  {
   "cell_type": "code",
   "execution_count": 119,
   "metadata": {},
   "outputs": [
    {
     "name": "stdout",
     "output_type": "stream",
     "text": [
      "\u001b]0;mongosh mongodb+srv://<credentials>@devcert.6ngvd.mongodb.net/\u0007\u001b[1G\u001b[0J \u001b[1G{\n",
      "  acknowledged: \u001b[33mtrue\u001b[39m,\n",
      "  insertedIds: {\n",
      "    \u001b[32m'0'\u001b[39m: ObjectId(\"64d3dc5c148ecd164655546c\"),\n",
      "    \u001b[32m'1'\u001b[39m: ObjectId(\"64d3dc5c148ecd164655546d\"),\n",
      "    \u001b[32m'2'\u001b[39m: ObjectId(\"64d3dc5c148ecd164655546e\"),\n",
      "    \u001b[32m'3'\u001b[39m: ObjectId(\"64d3dc5c148ecd164655546f\"),\n",
      "    \u001b[32m'4'\u001b[39m: ObjectId(\"64d3dc5c148ecd1646555470\")\n",
      "  }\n",
      "}\n"
     ]
    }
   ],
   "source": [
    "# inserting docs to Update\n",
    "deleteString = \"db.testCollection3.deleteMany({})\"\n",
    "insertString = \"db.testCollection3.insertMany([{a:1},{a:2},{a:3},{a:4},{a:5}])\"\n",
    "\n",
    "!mongosh {mongoDB_connection_string} --quiet  --username {mongoDB_username} -p {mongoDB_password} \\\n",
    "--eval \"use testDb\" \\\n",
    "--eval \"{deleteString}\" \\\n",
    "--eval \"{insertString}\""
   ]
  },
  {
   "cell_type": "code",
   "execution_count": 12,
   "metadata": {
    "scrolled": true
   },
   "outputs": [
    {
     "name": "stdout",
     "output_type": "stream",
     "text": [
      "db.testCollection3.updateOne({a:1},{$set:{b:3}})\n",
      "\n",
      "\u001b]0;mongosh mongodb+srv://<credentials>@devcert.6ngvd.mongodb.net/\u0007\u001b[1G\u001b[0J \u001b[1G{ _id: ObjectId(\"64d3dc5c148ecd164655546c\"), a: \u001b[33m1\u001b[39m, b: \u001b[33m3\u001b[39m }\n"
     ]
    }
   ],
   "source": [
    "updateString = \"db.testCollection3.updateOne({a:1},{\\$set:{b:3}})\"\n",
    "readString = \"db.testCollection3.findOne({a:1})\"\n",
    "\n",
    "print(updateString.replace(\"\\\\\", \"\"))\n",
    "print(\"\")\n",
    "\n",
    "!mongosh {mongoDB_connection_string} --quiet  --username {mongoDB_username} -p {mongoDB_password} \\\n",
    "--eval \"use testDb\" \\\n",
    "--eval \"{updateString}\" \\\n",
    "--eval \"{readString}\""
   ]
  },
  {
   "cell_type": "code",
   "execution_count": 13,
   "metadata": {},
   "outputs": [
    {
     "name": "stdout",
     "output_type": "stream",
     "text": [
      "db.testCollection3.updateOne({a:1,b:3},{$unset:{b:3}})\n",
      "\n",
      "\u001b]0;mongosh mongodb+srv://<credentials>@devcert.6ngvd.mongodb.net/\u0007\u001b[1G\u001b[0J \u001b[1G{ _id: ObjectId(\"64d3dc5c148ecd164655546c\"), a: \u001b[33m1\u001b[39m }\n"
     ]
    }
   ],
   "source": [
    "updateString = \"db.testCollection3.updateOne({a:1,b:3},{\\$unset:{b:3}})\"\n",
    "readString = \"db.testCollection3.findOne({a:1})\"\n",
    "\n",
    "print(updateString.replace(\"\\\\\", \"\"))\n",
    "print(\"\")\n",
    "\n",
    "!mongosh {mongoDB_connection_string} --quiet  --username {mongoDB_username} -p {mongoDB_password} \\\n",
    "--eval \"use testDb\" \\\n",
    "--eval \"{updateString}\" \\\n",
    "--eval \"{readString}\""
   ]
  },
  {
   "cell_type": "code",
   "execution_count": 15,
   "metadata": {},
   "outputs": [
    {
     "name": "stdout",
     "output_type": "stream",
     "text": [
      "db.testCollection3.updateOne({a:1},{$inc:{b:3}})\n",
      "\n",
      "\u001b]0;mongosh mongodb+srv://<credentials>@devcert.6ngvd.mongodb.net/\u0007\u001b[1G\u001b[0J \u001b[1G{ _id: ObjectId(\"64d3dc5c148ecd164655546c\"), a: \u001b[33m1\u001b[39m, b: \u001b[33m6\u001b[39m }\n"
     ]
    }
   ],
   "source": [
    "# Re run this multiple times and see what happens!\n",
    "\n",
    "updateString = \"db.testCollection3.updateOne({a:1},{\\$inc:{b:3}})\"\n",
    "readString = \"db.testCollection3.findOne({a:1})\"\n",
    "\n",
    "print(updateString.replace(\"\\\\\", \"\"))\n",
    "print(\"\")\n",
    "\n",
    "!mongosh {mongoDB_connection_string} --quiet  --username {mongoDB_username} -p {mongoDB_password} \\\n",
    "--eval \"use testDb\" \\\n",
    "--eval \"{updateString}\" \\\n",
    "--eval \"{readString}\""
   ]
  },
  {
   "cell_type": "code",
   "execution_count": 18,
   "metadata": {},
   "outputs": [
    {
     "name": "stdout",
     "output_type": "stream",
     "text": [
      "db.testCollection3.updateOne({a:1},{$push:{c:3}})\n",
      "\n",
      "\u001b]0;mongosh mongodb+srv://<credentials>@devcert.6ngvd.mongodb.net/\u0007\u001b[1G\u001b[0J \u001b[1G{\n",
      "  _id: ObjectId(\"64d3dc5c148ecd164655546c\"),\n",
      "  a: \u001b[33m1\u001b[39m,\n",
      "  b: \u001b[33m6\u001b[39m,\n",
      "  c: [ \u001b[33m3\u001b[39m, \u001b[33m3\u001b[39m, \u001b[33m3\u001b[39m ]\n",
      "}\n"
     ]
    }
   ],
   "source": [
    "# Re run this multiple times and see what happens!\n",
    "\n",
    "updateString = \"db.testCollection3.updateOne({a:1},{\\$push:{c:3}})\"\n",
    "readString = \"db.testCollection3.findOne({a:1})\"\n",
    "\n",
    "print(updateString.replace(\"\\\\\", \"\"))\n",
    "print(\"\")\n",
    "\n",
    "!mongosh {mongoDB_connection_string} --quiet  --username {mongoDB_username} -p {mongoDB_password} \\\n",
    "--eval \"use testDb\" \\\n",
    "--eval \"{updateString}\" \\\n",
    "--eval \"{readString}\""
   ]
  },
  {
   "cell_type": "code",
   "execution_count": 22,
   "metadata": {},
   "outputs": [
    {
     "name": "stdout",
     "output_type": "stream",
     "text": [
      "db.testCollection3.updateOne({a:1},{$push:{c:3,d:3},$inc:{b:3}})\n",
      "\n",
      "\u001b]0;mongosh mongodb+srv://<credentials>@devcert.6ngvd.mongodb.net/\u0007\u001b[1G\u001b[0J \u001b[1G{\n",
      "  _id: ObjectId(\"64d3dc5c148ecd164655546c\"),\n",
      "  a: \u001b[33m1\u001b[39m,\n",
      "  b: \u001b[33m18\u001b[39m,\n",
      "  c: [\n",
      "    \u001b[33m3\u001b[39m, \u001b[33m3\u001b[39m, \u001b[33m3\u001b[39m, \u001b[33m3\u001b[39m,\n",
      "    \u001b[33m3\u001b[39m, \u001b[33m3\u001b[39m, \u001b[33m3\u001b[39m\n",
      "  ],\n",
      "  d: [ \u001b[33m3\u001b[39m ]\n",
      "}\n"
     ]
    }
   ],
   "source": [
    "# Re run this multiple times and see what happens!\n",
    "\n",
    "updateString = \"db.testCollection3.updateOne({a:1},{\\$push:{c:3,d:3},\\$inc:{b:3}})\"\n",
    "readString = \"db.testCollection3.findOne({a:1})\"\n",
    "\n",
    "print(updateString.replace(\"\\\\\", \"\"))\n",
    "print(\"\")\n",
    "\n",
    "!mongosh {mongoDB_connection_string} --quiet  --username {mongoDB_username} -p {mongoDB_password} \\\n",
    "--eval \"use testDb\" \\\n",
    "--eval \"{updateString}\" \\\n",
    "--eval \"{readString}\""
   ]
  },
  {
   "cell_type": "markdown",
   "metadata": {},
   "source": [
    "### Thoughts and Reflections\n",
    "\n",
    "- you can put as many operators in a single update statement as you want. These are ATOMIC\n",
    "- you can put as many fields as you want to update in an operator\n",
    "\n",
    "### Upserting\n",
    "\n",
    "The normal behavior to experience on update is that if no documents are matched by the filter, nothing happens. However, if you set `{upsert:true}` you can insert if no documents match the filter"
   ]
  },
  {
   "cell_type": "code",
   "execution_count": 23,
   "metadata": {},
   "outputs": [
    {
     "name": "stdout",
     "output_type": "stream",
     "text": [
      "db.testCollection3.updateOne({a:6},{$set:{b:2}})\n",
      "\n",
      "\u001b]0;mongosh mongodb+srv://<credentials>@devcert.6ngvd.mongodb.net/\u0007\u001b[1G\u001b[0J \u001b[1G\u001b[1mnull\u001b[22m\n"
     ]
    }
   ],
   "source": [
    "updateString = \"db.testCollection3.updateOne({a:6},{\\$inc:{b:2}})\"\n",
    "readString = \"db.testCollection3.findOne({a:6})\"\n",
    "\n",
    "print(updateString.replace(\"\\\\\", \"\"))\n",
    "print(\"\")\n",
    "\n",
    "!mongosh {mongoDB_connection_string} --quiet  --username {mongoDB_username} -p {mongoDB_password} \\\n",
    "--eval \"use testDb\" \\\n",
    "--eval \"{updateString}\" \\\n",
    "--eval \"{readString}\""
   ]
  },
  {
   "cell_type": "code",
   "execution_count": 26,
   "metadata": {},
   "outputs": [
    {
     "name": "stdout",
     "output_type": "stream",
     "text": [
      "db.testCollection3.updateOne({a:6},{$inc:{b:2}},{upsert:true})\n",
      "\n",
      "\u001b]0;mongosh mongodb+srv://<credentials>@devcert.6ngvd.mongodb.net/\u0007\u001b[1G\u001b[0J \u001b[1G{ _id: ObjectId(\"64dbe41b15506878d86f3fb4\"), a: \u001b[33m6\u001b[39m, b: \u001b[33m6\u001b[39m }\n"
     ]
    }
   ],
   "source": [
    "# Re run this multiple times and see what happens!\n",
    "\n",
    "updateString = \"db.testCollection3.updateOne({a:6},{\\$inc:{b:2}},{upsert:true})\"\n",
    "readString = \"db.testCollection3.findOne({a:6})\"\n",
    "\n",
    "print(updateString.replace(\"\\\\\", \"\"))\n",
    "print(\"\")\n",
    "\n",
    "!mongosh {mongoDB_connection_string} --quiet  --username {mongoDB_username} -p {mongoDB_password} \\\n",
    "--eval \"use testDb\" \\\n",
    "--eval \"{updateString}\" \\\n",
    "--eval \"{readString}\""
   ]
  },
  {
   "cell_type": "code",
   "execution_count": null,
   "metadata": {},
   "outputs": [],
   "source": []
  }
 ],
 "metadata": {
  "kernelspec": {
   "display_name": "Python 2",
   "language": "python",
   "name": "python2"
  },
  "language_info": {
   "codemirror_mode": {
    "name": "ipython",
    "version": 2
   },
   "file_extension": ".py",
   "mimetype": "text/x-python",
   "name": "python",
   "nbconvert_exporter": "python",
   "pygments_lexer": "ipython2",
   "version": "2.7.18"
  }
 },
 "nbformat": 4,
 "nbformat_minor": 2
}
